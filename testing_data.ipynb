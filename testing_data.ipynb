{
 "cells": [
  {
   "cell_type": "code",
   "execution_count": 1,
   "metadata": {},
   "outputs": [],
   "source": [
    "%matplotlib inline\n",
    "import matplotlib.pyplot as plt\n",
    "import pandas as pd\n",
    "import numpy as np\n",
    "import matplotlib.dates as mdates\n",
    "import data\n",
    "plt.style.use('seaborn-poster')"
   ]
  },
  {
   "cell_type": "code",
   "execution_count": 2,
   "metadata": {},
   "outputs": [],
   "source": [
    "file = \"/Users/ketch/Research/Projects/covid_forecasting/daily-tests-per-thousand-people-smoothed-7-day.csv\"\n",
    "df = pd.read_csv(file)"
   ]
  },
  {
   "cell_type": "code",
   "execution_count": 4,
   "metadata": {},
   "outputs": [
    {
     "data": {
      "text/html": [
       "<div>\n",
       "<style scoped>\n",
       "    .dataframe tbody tr th:only-of-type {\n",
       "        vertical-align: middle;\n",
       "    }\n",
       "\n",
       "    .dataframe tbody tr th {\n",
       "        vertical-align: top;\n",
       "    }\n",
       "\n",
       "    .dataframe thead th {\n",
       "        text-align: right;\n",
       "    }\n",
       "</style>\n",
       "<table border=\"1\" class=\"dataframe\">\n",
       "  <thead>\n",
       "    <tr style=\"text-align: right;\">\n",
       "      <th></th>\n",
       "      <th>Entity</th>\n",
       "      <th>Code</th>\n",
       "      <th>Date</th>\n",
       "      <th>Daily tests per thousand people (7-day smoothed) (tests per thousand)</th>\n",
       "    </tr>\n",
       "  </thead>\n",
       "  <tbody>\n",
       "    <tr>\n",
       "      <th>0</th>\n",
       "      <td>Argentina</td>\n",
       "      <td>ARG</td>\n",
       "      <td>Apr 15, 2020</td>\n",
       "      <td>0.035</td>\n",
       "    </tr>\n",
       "    <tr>\n",
       "      <th>1</th>\n",
       "      <td>Argentina</td>\n",
       "      <td>ARG</td>\n",
       "      <td>Apr 16, 2020</td>\n",
       "      <td>0.037</td>\n",
       "    </tr>\n",
       "    <tr>\n",
       "      <th>2</th>\n",
       "      <td>Argentina</td>\n",
       "      <td>ARG</td>\n",
       "      <td>Apr 17, 2020</td>\n",
       "      <td>0.039</td>\n",
       "    </tr>\n",
       "    <tr>\n",
       "      <th>3</th>\n",
       "      <td>Argentina</td>\n",
       "      <td>ARG</td>\n",
       "      <td>Apr 18, 2020</td>\n",
       "      <td>0.041</td>\n",
       "    </tr>\n",
       "    <tr>\n",
       "      <th>4</th>\n",
       "      <td>Argentina</td>\n",
       "      <td>ARG</td>\n",
       "      <td>Apr 19, 2020</td>\n",
       "      <td>0.044</td>\n",
       "    </tr>\n",
       "  </tbody>\n",
       "</table>\n",
       "</div>"
      ],
      "text/plain": [
       "      Entity Code          Date  \\\n",
       "0  Argentina  ARG  Apr 15, 2020   \n",
       "1  Argentina  ARG  Apr 16, 2020   \n",
       "2  Argentina  ARG  Apr 17, 2020   \n",
       "3  Argentina  ARG  Apr 18, 2020   \n",
       "4  Argentina  ARG  Apr 19, 2020   \n",
       "\n",
       "   Daily tests per thousand people (7-day smoothed) (tests per thousand)  \n",
       "0                                              0.035                      \n",
       "1                                              0.037                      \n",
       "2                                              0.039                      \n",
       "3                                              0.041                      \n",
       "4                                              0.044                      "
      ]
     },
     "execution_count": 4,
     "metadata": {},
     "output_type": "execute_result"
    }
   ],
   "source": [
    "df.head()"
   ]
  },
  {
   "cell_type": "code",
   "execution_count": 32,
   "metadata": {},
   "outputs": [
    {
     "name": "stdout",
     "output_type": "stream",
     "text": [
      "United States 0.7120000000000001\n",
      "Russia 1.147\n",
      "United Kingdom 0.669\n",
      "Spain 0.946\n",
      "Italy 0.971\n",
      "France 0.262\n",
      "Germany 0.5720000000000001\n",
      "Turkey 0.415\n",
      "India 0.037000000000000005\n"
     ]
    }
   ],
   "source": [
    "for region in ['United States','Brazil','Russia','United Kingdom','Spain','Italy','France','Germany','Turkey','India']:\n",
    "    rows = df.loc[(df['Entity'] == region) & (df['Date']=='May 1, 2020')]\n",
    "    if len(rows)>0:\n",
    "        tests=rows['Daily tests per thousand people (7-day smoothed) (tests per thousand)']\n",
    "        print(region, float(tests))"
   ]
  },
  {
   "cell_type": "code",
   "execution_count": 37,
   "metadata": {},
   "outputs": [
    {
     "name": "stdout",
     "output_type": "stream",
     "text": [
      "South Korea 0.177\n"
     ]
    }
   ],
   "source": [
    "for region in ['Saudi Arabia','South Korea']:\n",
    "    rows = df.loc[(df['Entity'] == region) & (df['Date']=='Apr 1, 2020')]\n",
    "    if len(rows)>0:\n",
    "        tests=rows['Daily tests per thousand people (7-day smoothed) (tests per thousand)']\n",
    "        print(region, float(tests))"
   ]
  },
  {
   "cell_type": "code",
   "execution_count": 22,
   "metadata": {},
   "outputs": [
    {
     "data": {
      "text/plain": [
       "array(['Argentina', 'Australia', 'Austria', 'Bahrain', 'Bangladesh',\n",
       "       'Belarus', 'Belgium', 'Bolivia', 'Brazil', 'Bulgaria', 'Canada',\n",
       "       'Chile', 'Colombia', 'Costa Rica', 'Croatia', 'Cuba',\n",
       "       'Czech Republic', 'Denmark', 'Ecuador', 'El Salvador', 'Estonia',\n",
       "       'Ethiopia', 'Finland', 'France', 'Germany', 'Ghana',\n",
       "       'Ghana, samples tested', 'Greece', 'Hong Kong', 'Hungary',\n",
       "       'Iceland', 'India', 'India, people tested', 'Indonesia', 'Iran',\n",
       "       'Ireland', 'Israel', 'Italy', 'Italy, people tested', 'Japan',\n",
       "       'Japan, tests performed', 'Kazakhstan', 'Kenya', 'Latvia',\n",
       "       'Lithuania', 'Luxembourg', 'Malaysia', 'Maldives', 'Mexico',\n",
       "       'Morocco', 'Myanmar', 'Nepal', 'Netherlands', 'New Zealand',\n",
       "       'Nigeria', 'Norway', 'Pakistan', 'Panama', 'Paraguay', 'Peru',\n",
       "       'Philippines', 'Poland', 'Portugal', 'Qatar', 'Romania', 'Russia',\n",
       "       'Rwanda', 'Saudi Arabia', 'Senegal', 'Serbia', 'Singapore',\n",
       "       'Singapore, swabs tested', 'Slovakia', 'Slovenia', 'South Africa',\n",
       "       'South Korea', 'Spain', 'Sweden', 'Switzerland', 'Taiwan',\n",
       "       'Thailand', 'Thailand, people tested', 'Tunisia', 'Turkey',\n",
       "       'Uganda', 'Ukraine', 'United Kingdom',\n",
       "       'United Kingdom, tests performed', 'United States',\n",
       "       'United States, tests performed', 'Uruguay', 'Vietnam', 'Zimbabwe'],\n",
       "      dtype=object)"
      ]
     },
     "execution_count": 22,
     "metadata": {},
     "output_type": "execute_result"
    }
   ],
   "source": [
    "df['Entity'].unique()"
   ]
  },
  {
   "cell_type": "code",
   "execution_count": 8,
   "metadata": {},
   "outputs": [],
   "source": []
  },
  {
   "cell_type": "code",
   "execution_count": 15,
   "metadata": {},
   "outputs": [
    {
     "data": {
      "text/plain": [
       "0.946"
      ]
     },
     "execution_count": 15,
     "metadata": {},
     "output_type": "execute_result"
    }
   ],
   "source": [
    "float(tests)"
   ]
  },
  {
   "cell_type": "code",
   "execution_count": null,
   "metadata": {},
   "outputs": [],
   "source": []
  }
 ],
 "metadata": {
  "kernelspec": {
   "display_name": "Python 3",
   "language": "python",
   "name": "python3"
  },
  "language_info": {
   "codemirror_mode": {
    "name": "ipython",
    "version": 3
   },
   "file_extension": ".py",
   "mimetype": "text/x-python",
   "name": "python",
   "nbconvert_exporter": "python",
   "pygments_lexer": "ipython3",
   "version": "3.6.5"
  },
  "toc": {
   "base_numbering": 1,
   "nav_menu": {},
   "number_sections": true,
   "sideBar": true,
   "skip_h1_title": false,
   "title_cell": "Table of Contents",
   "title_sidebar": "Contents",
   "toc_cell": false,
   "toc_position": {},
   "toc_section_display": true,
   "toc_window_display": false
  }
 },
 "nbformat": 4,
 "nbformat_minor": 2
}
