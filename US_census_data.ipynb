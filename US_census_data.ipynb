{
 "cells": [
  {
   "cell_type": "code",
   "execution_count": null,
   "metadata": {},
   "outputs": [],
   "source": [
    "%matplotlib inline\n",
    "import matplotlib.pyplot as plt\n",
    "import pandas as pd\n",
    "import numpy as np\n",
    "import matplotlib.dates as mdates\n",
    "import data\n",
    "plt.style.use('seaborn-poster')"
   ]
  },
  {
   "cell_type": "markdown",
   "metadata": {},
   "source": [
    "# Data from https://www.census.gov/data/tables/time-series/demo/popest/2010s-state-detail.html"
   ]
  },
  {
   "cell_type": "code",
   "execution_count": null,
   "metadata": {},
   "outputs": [],
   "source": [
    "file = \"./sc-est2018-agesex-civ.csv\"\n",
    "df = pd.read_csv(file)"
   ]
  },
  {
   "cell_type": "code",
   "execution_count": null,
   "metadata": {},
   "outputs": [],
   "source": [
    "df.head()"
   ]
  },
  {
   "cell_type": "code",
   "execution_count": null,
   "metadata": {},
   "outputs": [],
   "source": [
    "pop = np.zeros(9)\n",
    "for region in data.US_state_population.keys():\n",
    "    if region == 'Puerto Rico': continue\n",
    "\n",
    "    # Make total equal to 2020 value -- need to repaste for this to work\n",
    "    tot = np.sum(data.age_distribution_US_states[region])\n",
    "    val = data.US_state_population[region]\n",
    "    ratio = val/tot\n",
    "    \n",
    "    rows = df.loc[df['NAME'] == region]\n",
    "    rows = rows.loc[rows['SEX']==0]\n",
    "    for decade in range(9):\n",
    "        total = 0\n",
    "        for yr in range(10):\n",
    "            age = decade*10+yr\n",
    "            if age<=85:\n",
    "                this_row = rows.loc[rows['AGE']==decade*10+yr]\n",
    "                if len(this_row) != 1:\n",
    "                    print(region, decade*10+yr)\n",
    "                    print(this_row)\n",
    "                    print(rows['AGE'])\n",
    "                    raise Exception\n",
    "                else:\n",
    "                    total += list(this_row['POPEST2018_CIV'])[0]\n",
    "        pop[decade] = total*ratio\n",
    "        #print(region, decade, total)\n",
    "    popstr = \"np.array([\"+\",\".join([str(p) for p in pop])+\"])\"\n",
    "    print(\"'\"+region+\"':\", popstr, \",\")"
   ]
  },
  {
   "cell_type": "code",
   "execution_count": null,
   "metadata": {},
   "outputs": [],
   "source": [
    "for region in data.US_state_population.keys():\n",
    "    tot = np.sum(data.age_distribution_US_states[region])\n",
    "    val = data.US_state_population[region]\n",
    "    ratio = val/tot\n",
    "    print(region, val-tot)"
   ]
  },
  {
   "cell_type": "code",
   "execution_count": null,
   "metadata": {},
   "outputs": [],
   "source": [
    "import covid_forecast"
   ]
  },
  {
   "cell_type": "code",
   "execution_count": null,
   "metadata": {},
   "outputs": [],
   "source": []
  }
 ],
 "metadata": {
  "kernelspec": {
   "display_name": "Python 3",
   "language": "python",
   "name": "python3"
  },
  "language_info": {
   "codemirror_mode": {
    "name": "ipython",
    "version": 3
   },
   "file_extension": ".py",
   "mimetype": "text/x-python",
   "name": "python",
   "nbconvert_exporter": "python",
   "pygments_lexer": "ipython3",
   "version": "3.6.5"
  },
  "toc": {
   "base_numbering": 1,
   "nav_menu": {},
   "number_sections": true,
   "sideBar": true,
   "skip_h1_title": false,
   "title_cell": "Table of Contents",
   "title_sidebar": "Contents",
   "toc_cell": false,
   "toc_position": {},
   "toc_section_display": true,
   "toc_window_display": false
  }
 },
 "nbformat": 4,
 "nbformat_minor": 2
}
