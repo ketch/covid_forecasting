{
 "cells": [
  {
   "cell_type": "code",
   "execution_count": 2,
   "metadata": {},
   "outputs": [],
   "source": [
    "import pandas as pd\n",
    "import numpy as np\n",
    "import data"
   ]
  },
  {
   "cell_type": "code",
   "execution_count": 3,
   "metadata": {},
   "outputs": [],
   "source": [
    "file = \"./InterventionsImplemented.csv\"\n",
    "interventions_df = pd.read_csv(file)"
   ]
  },
  {
   "cell_type": "code",
   "execution_count": 4,
   "metadata": {},
   "outputs": [
    {
     "data": {
      "text/html": [
       "<div>\n",
       "<style scoped>\n",
       "    .dataframe tbody tr th:only-of-type {\n",
       "        vertical-align: middle;\n",
       "    }\n",
       "\n",
       "    .dataframe tbody tr th {\n",
       "        vertical-align: top;\n",
       "    }\n",
       "\n",
       "    .dataframe thead th {\n",
       "        text-align: right;\n",
       "    }\n",
       "</style>\n",
       "<table border=\"1\" class=\"dataframe\">\n",
       "  <thead>\n",
       "    <tr style=\"text-align: right;\">\n",
       "      <th></th>\n",
       "      <th>Date</th>\n",
       "      <th>CountryCode</th>\n",
       "      <th>CountryName</th>\n",
       "      <th>mandatorylockdown</th>\n",
       "      <th>publiceventsbanned</th>\n",
       "      <th>schoolsclosed</th>\n",
       "    </tr>\n",
       "  </thead>\n",
       "  <tbody>\n",
       "    <tr>\n",
       "      <th>0</th>\n",
       "      <td>2020-01-01</td>\n",
       "      <td>AFG</td>\n",
       "      <td>Afghanistan</td>\n",
       "      <td>0</td>\n",
       "      <td>0</td>\n",
       "      <td>0</td>\n",
       "    </tr>\n",
       "    <tr>\n",
       "      <th>1</th>\n",
       "      <td>2020-01-01</td>\n",
       "      <td>AGO</td>\n",
       "      <td>Angola</td>\n",
       "      <td>0</td>\n",
       "      <td>0</td>\n",
       "      <td>0</td>\n",
       "    </tr>\n",
       "    <tr>\n",
       "      <th>2</th>\n",
       "      <td>2020-01-01</td>\n",
       "      <td>ARE</td>\n",
       "      <td>United Arab Emirates</td>\n",
       "      <td>0</td>\n",
       "      <td>0</td>\n",
       "      <td>0</td>\n",
       "    </tr>\n",
       "    <tr>\n",
       "      <th>3</th>\n",
       "      <td>2020-01-01</td>\n",
       "      <td>ARG</td>\n",
       "      <td>Argentina</td>\n",
       "      <td>0</td>\n",
       "      <td>0</td>\n",
       "      <td>0</td>\n",
       "    </tr>\n",
       "    <tr>\n",
       "      <th>4</th>\n",
       "      <td>2020-01-01</td>\n",
       "      <td>ARM</td>\n",
       "      <td>Armenia</td>\n",
       "      <td>0</td>\n",
       "      <td>0</td>\n",
       "      <td>0</td>\n",
       "    </tr>\n",
       "  </tbody>\n",
       "</table>\n",
       "</div>"
      ],
      "text/plain": [
       "         Date CountryCode           CountryName  mandatorylockdown  \\\n",
       "0  2020-01-01         AFG           Afghanistan                  0   \n",
       "1  2020-01-01         AGO                Angola                  0   \n",
       "2  2020-01-01         ARE  United Arab Emirates                  0   \n",
       "3  2020-01-01         ARG             Argentina                  0   \n",
       "4  2020-01-01         ARM               Armenia                  0   \n",
       "\n",
       "   publiceventsbanned  schoolsclosed  \n",
       "0                   0              0  \n",
       "1                   0              0  \n",
       "2                   0              0  \n",
       "3                   0              0  \n",
       "4                   0              0  "
      ]
     },
     "execution_count": 4,
     "metadata": {},
     "output_type": "execute_result"
    }
   ],
   "source": [
    "interventions_df.head()"
   ]
  },
  {
   "cell_type": "code",
   "execution_count": 6,
   "metadata": {},
   "outputs": [
    {
     "name": "stdout",
     "output_type": "stream",
     "text": [
      "publiceventsbanned\n",
      "schoolsclosed\n"
     ]
    }
   ],
   "source": [
    "rows = interventions_df['CountryName'] == 'China'\n",
    "for measure in ['mandatorylockdown','publiceventsbanned','schoolsclosed']:\n",
    "    if np.any(interventions_df[measure][rows]):\n",
    "        print(measure)"
   ]
  },
  {
   "cell_type": "code",
   "execution_count": null,
   "metadata": {},
   "outputs": [],
   "source": []
  },
  {
   "cell_type": "code",
   "execution_count": 40,
   "metadata": {
    "scrolled": false
   },
   "outputs": [
    {
     "name": "stdout",
     "output_type": "stream",
     "text": [
      "Afghanistan 0.35199999999999987\n",
      "Albania 0.18999999999999995\n",
      "Algeria 0.41679999999999984\n",
      "Andorra 0.18999999999999995\n",
      "Angola 0.7083999999999999\n",
      "Antigua and Barbuda 0.18999999999999995\n",
      "Argentina 0.7083999999999999\n",
      "Armenia 0.18999999999999995\n",
      "Australia 0.18999999999999995\n",
      "Austria 0.7083999999999999\n",
      "Azerbaijan 0.18999999999999995\n",
      "Bahamas 0.18999999999999995\n",
      "Bahrain 0.18999999999999995\n",
      "Bangladesh 0.18999999999999995\n",
      "Barbados 0.18999999999999995\n",
      "Belarus 0.18999999999999995\n",
      "Belgium 0.7083999999999999\n",
      "Belize 0.41679999999999984\n",
      "Benin 0.18999999999999995\n",
      "Bhutan 0.18999999999999995\n",
      "Bolivia 0.7083999999999999\n",
      "Bosnia and Herzegovina 0.18999999999999995\n",
      "Brazil 0.35199999999999987\n",
      "Bulgaria 0.7083999999999999\n",
      "Burkina Faso 0.18999999999999995\n",
      "Cabo Verde 0.18999999999999995\n",
      "Cambodia 0.18999999999999995\n",
      "Cameroon 0.18999999999999995\n",
      "Canada 0.18999999999999995\n",
      "Central African Republic 0.18999999999999995\n",
      "Chad 0.18999999999999995\n",
      "Chile 0.18999999999999995\n",
      "China 0.41679999999999984\n",
      "Colombia 0.7083999999999999\n",
      "Costa Rica 0.7083999999999999\n",
      "Croatia 0.7083999999999999\n",
      "Cuba 0.18999999999999995\n",
      "Cyprus 0.18999999999999995\n",
      "Czechia 0.18999999999999995\n",
      "Denmark 0.41679999999999984\n",
      "Djibouti 0.18999999999999995\n",
      "Dominica 0.18999999999999995\n",
      "Dominican Republic 0.2709999999999999\n",
      "Ecuador 0.18999999999999995\n",
      "Egypt 0.18999999999999995\n",
      "El Salvador 0.41679999999999984\n",
      "Equatorial Guinea 0.18999999999999995\n",
      "Eritrea 0.18999999999999995\n",
      "Estonia 0.18999999999999995\n",
      "Eswatini 0.18999999999999995\n",
      "Ethiopia 0.18999999999999995\n",
      "Fiji 0.18999999999999995\n",
      "Finland 0.41679999999999984\n",
      "France 0.7083999999999999\n",
      "Gabon 0.18999999999999995\n",
      "Gambia 0.18999999999999995\n",
      "Georgia 0.18999999999999995\n",
      "Germany 0.7083999999999999\n",
      "Ghana 0.18999999999999995\n",
      "Greece 0.7083999999999999\n",
      "Grenada 0.18999999999999995\n",
      "Guatemala 0.35199999999999987\n",
      "Guinea 0.18999999999999995\n",
      "Guinea-Bissau 0.18999999999999995\n",
      "Guyana 0.35199999999999987\n",
      "Haiti 0.18999999999999995\n",
      "Holy See 0.18999999999999995\n",
      "Honduras 0.7083999999999999\n",
      "Hungary 0.41679999999999984\n",
      "Iceland 0.35199999999999987\n",
      "India 0.7083999999999999\n",
      "Indonesia 0.18999999999999995\n",
      "Iran 0.6759999999999999\n",
      "Iraq 0.41679999999999984\n",
      "Ireland 0.41679999999999984\n",
      "Israel 0.7083999999999999\n",
      "Italy 0.7083999999999999\n",
      "Jamaica 0.18999999999999995\n",
      "Japan 0.18999999999999995\n",
      "Jordan 0.7083999999999999\n",
      "Kazakhstan 0.41679999999999984\n",
      "Kenya 0.7083999999999999\n",
      "Kuwait 0.18999999999999995\n",
      "Kyrgyzstan 0.18999999999999995\n",
      "Laos 0.35199999999999987\n",
      "Latvia 0.18999999999999995\n",
      "Lebanon 0.18999999999999995\n",
      "Liberia 0.18999999999999995\n",
      "Libya 0.18999999999999995\n",
      "Liechtenstein 0.18999999999999995\n",
      "Lithuania 0.18999999999999995\n",
      "Luxembourg 0.18999999999999995\n",
      "Madagascar 0.18999999999999995\n",
      "Malaysia 0.7083999999999999\n",
      "Maldives 0.18999999999999995\n",
      "Mali 0.18999999999999995\n",
      "Malta 0.18999999999999995\n",
      "Mauritania 0.18999999999999995\n",
      "Mauritius 0.18999999999999995\n",
      "Mexico 0.35199999999999987\n",
      "Monaco 0.18999999999999995\n",
      "Mongolia 0.18999999999999995\n",
      "Montenegro 0.18999999999999995\n",
      "Morocco 0.18999999999999995\n",
      "Mozambique 0.18999999999999995\n",
      "Namibia 0.18999999999999995\n",
      "Nepal 0.18999999999999995\n",
      "Netherlands 0.7083999999999999\n",
      "New Zealand 0.6355\n",
      "Nicaragua 0.18999999999999995\n",
      "Niger 0.18999999999999995\n",
      "Nigeria 0.18999999999999995\n",
      "North Macedonia 0.18999999999999995\n",
      "Norway 0.41679999999999984\n",
      "Oman 0.18999999999999995\n",
      "Pakistan 0.7083999999999999\n",
      "Panama 0.41679999999999984\n",
      "Papua New Guinea 0.7083999999999999\n",
      "Paraguay 0.18999999999999995\n",
      "Peru 0.18999999999999995\n",
      "Philippines 0.18999999999999995\n",
      "Poland 0.41679999999999984\n",
      "Portugal 0.41679999999999984\n",
      "Qatar 0.7083999999999999\n",
      "Korea, South 0.18999999999999995\n",
      "Romania 0.7083999999999999\n",
      "Russia 0.6759999999999999\n",
      "Rwanda 0.6759999999999999\n",
      "Saint Kitts and Nevis 0.18999999999999995\n",
      "Saint Lucia 0.18999999999999995\n",
      "Saint Vincent and the Grenadines 0.18999999999999995\n",
      "San Marino 0.18999999999999995\n",
      "Senegal 0.18999999999999995\n",
      "Serbia 0.7083999999999999\n",
      "Seychelles 0.18999999999999995\n",
      "Singapore 0.18999999999999995\n",
      "Slovakia 0.18999999999999995\n",
      "Slovenia 0.35199999999999987\n",
      "Somalia 0.18999999999999995\n",
      "South Africa 0.7083999999999999\n",
      "Spain 0.7083999999999999\n",
      "Sri Lanka 0.7083999999999999\n",
      "Sudan 0.18999999999999995\n",
      "Suriname 0.18999999999999995\n",
      "Sweden 0.2709999999999999\n",
      "Switzerland 0.41679999999999984\n",
      "Syria 0.41679999999999984\n",
      "Thailand 0.35199999999999987\n",
      "Timor-Leste 0.18999999999999995\n",
      "Togo 0.18999999999999995\n",
      "Trinidad and Tobago 0.18999999999999995\n",
      "Tunisia 0.18999999999999995\n",
      "Turkey 0.7083999999999999\n",
      "Uganda 0.41679999999999984\n",
      "Ukraine 0.7083999999999999\n",
      "United Arab Emirates 0.18999999999999995\n",
      "United Kingdom 0.7083999999999999\n",
      "US 0.18999999999999995\n",
      "Uruguay 0.18999999999999995\n",
      "Uzbekistan 0.18999999999999995\n",
      "Venezuela 0.7083999999999999\n",
      "Vietnam 0.35199999999999987\n",
      "Zambia 0.18999999999999995\n",
      "Zimbabwe 0.7083999999999999\n"
     ]
    }
   ],
   "source": [
    "intervention_effects = {\n",
    "    'mandatorylockdown' : 0.5,\n",
    "    'publiceventsbanned': 0.9\n",
    "    'schoolsclosed': 0.8\n",
    "    'socialdistancing': 0.9\n",
    "    'quarantinepositives': 0.9\n",
    "}\n",
    "\n",
    "for region in data.population.keys():\n",
    "    rows = interventions_df['CountryName'] == region\n",
    "    q1 = 1.\n",
    "    for measure in ['mandatorylockdown','publiceventsbanned','schoolsclosed']:\n",
    "    if np.any(interventions_df[measure][rows]):\n",
    "        q1 = q1*intervention_effects[measure]\n",
    "    for measure in ['socialdistancing','quarantinepositives']:\n",
    "        # Assume social distancing and positive case quarantine everywhere?\n",
    "        q1 = q1*intervention_effects[measure]\n",
    "    q = 1-q1    \n",
    "    print(region, q)"
   ]
  },
  {
   "cell_type": "code",
   "execution_count": 30,
   "metadata": {},
   "outputs": [
    {
     "data": {
      "text/plain": [
       "True"
      ]
     },
     "execution_count": 30,
     "metadata": {},
     "output_type": "execute_result"
    }
   ],
   "source": [
    "lockdown"
   ]
  },
  {
   "cell_type": "code",
   "execution_count": 31,
   "metadata": {},
   "outputs": [
    {
     "data": {
      "text/plain": [
       "True"
      ]
     },
     "execution_count": 31,
     "metadata": {},
     "output_type": "execute_result"
    }
   ],
   "source": [
    "ban"
   ]
  },
  {
   "cell_type": "code",
   "execution_count": 32,
   "metadata": {},
   "outputs": [
    {
     "data": {
      "text/plain": [
       "True"
      ]
     },
     "execution_count": 32,
     "metadata": {},
     "output_type": "execute_result"
    }
   ],
   "source": [
    "schoolclosed"
   ]
  },
  {
   "cell_type": "code",
   "execution_count": 27,
   "metadata": {},
   "outputs": [
    {
     "data": {
      "text/plain": [
       "28       0\n",
       "132      0\n",
       "236      0\n",
       "340      0\n",
       "444      0\n",
       "        ..\n",
       "9648     0\n",
       "9834     0\n",
       "10021    0\n",
       "10209    0\n",
       "10395    0\n",
       "Name: mandatorylockdown, Length: 90, dtype: int64"
      ]
     },
     "execution_count": 27,
     "metadata": {},
     "output_type": "execute_result"
    }
   ],
   "source": [
    "interventions_df['mandatorylockdown'][rows]"
   ]
  },
  {
   "cell_type": "code",
   "execution_count": 81,
   "metadata": {},
   "outputs": [],
   "source": [
    "mu1 = 5.1\n",
    "sigma1 = 0.86**2*mu1\n",
    "mu2 = 18.8\n",
    "sigma2 = 0.45**2*mu2\n",
    "alpha1 = (mu1/sigma1)**2\n",
    "alpha2 = (mu2/sigma2)**2\n",
    "beta1 = sigma1**2/mu1\n",
    "beta2 = sigma2**2/mu2\n",
    "N =100000000\n",
    "samples = np.random.gamma(alpha1,beta1,N)+np.random.gamma(alpha2,beta2,N)\n",
    "import matplotlib.pyplot as plt"
   ]
  },
  {
   "cell_type": "code",
   "execution_count": 82,
   "metadata": {},
   "outputs": [
    {
     "data": {
      "image/png": "[encoded data removed]",
      "text/plain": [
       "<Figure size 432x288 with 1 Axes>"
      ]
     },
     "metadata": {},
     "output_type": "display_data"
    }
   ],
   "source": [
    "counts, bins, patches = plt.hist(samples,bins=np.arange(50),align='mid',log=True)"
   ]
  },
  {
   "cell_type": "code",
   "execution_count": 83,
   "metadata": {},
   "outputs": [],
   "source": [
    "counts = counts/sum(counts)"
   ]
  },
  {
   "cell_type": "code",
   "execution_count": 84,
   "metadata": {},
   "outputs": [
    {
     "data": {
      "text/plain": [
       "(0.0, 50.0)"
      ]
     },
     "execution_count": 84,
     "metadata": {},
     "output_type": "execute_result"
    },
    {
     "data": {
      "image/png": "[encoded data removed]",
      "text/plain": [
       "<Figure size 432x288 with 1 Axes>"
      ]
     },
     "metadata": {},
     "output_type": "display_data"
    }
   ],
   "source": [
    "plt.plot(counts*0.007)\n",
    "plt.xlim(0,50)"
   ]
  },
  {
   "cell_type": "code",
   "execution_count": 85,
   "metadata": {},
   "outputs": [
    {
     "data": {
      "text/plain": [
       "23.900013655354176"
      ]
     },
     "execution_count": 85,
     "metadata": {},
     "output_type": "execute_result"
    }
   ],
   "source": [
    "np.mean(samples)"
   ]
  },
  {
   "cell_type": "code",
   "execution_count": 86,
   "metadata": {},
   "outputs": [],
   "source": [
    "np.savetxt('ttd_dist.txt',counts[:51])"
   ]
  },
  {
   "cell_type": "code",
   "execution_count": 87,
   "metadata": {},
   "outputs": [
    {
     "data": {
      "text/plain": [
       "1.0"
      ]
     },
     "execution_count": 87,
     "metadata": {},
     "output_type": "execute_result"
    }
   ],
   "source": [
    "np.sum(counts[:51])"
   ]
  },
  {
   "cell_type": "code",
   "execution_count": 48,
   "metadata": {},
   "outputs": [
    {
     "data": {
      "text/plain": [
       "1.1418641143007981"
      ]
     },
     "execution_count": 48,
     "metadata": {},
     "output_type": "execute_result"
    }
   ],
   "source": [
    "np.std(samples)"
   ]
  },
  {
   "cell_type": "code",
   "execution_count": 27,
   "metadata": {},
   "outputs": [
    {
     "data": {
      "text/plain": [
       "35.16765819361817"
      ]
     },
     "execution_count": 27,
     "metadata": {},
     "output_type": "execute_result"
    }
   ],
   "source": [
    "alpha1"
   ]
  },
  {
   "cell_type": "code",
   "execution_count": 28,
   "metadata": {},
   "outputs": [
    {
     "data": {
      "text/plain": [
       "0.14501960784313725"
      ]
     },
     "execution_count": 28,
     "metadata": {},
     "output_type": "execute_result"
    }
   ],
   "source": [
    "beta1"
   ]
  },
  {
   "cell_type": "code",
   "execution_count": 29,
   "metadata": {},
   "outputs": [],
   "source": [
    "np.random.gamma?"
   ]
  },
  {
   "cell_type": "code",
   "execution_count": 52,
   "metadata": {},
   "outputs": [],
   "source": [
    "plt.hist?"
   ]
  },
  {
   "cell_type": "code",
   "execution_count": null,
   "metadata": {},
   "outputs": [],
   "source": []
  }
 ],
 "metadata": {
  "kernelspec": {
   "display_name": "Python 3",
   "language": "python",
   "name": "python3"
  },
  "language_info": {
   "codemirror_mode": {
    "name": "ipython",
    "version": 3
   },
   "file_extension": ".py",
   "mimetype": "text/x-python",
   "name": "python",
   "nbconvert_exporter": "python",
   "pygments_lexer": "ipython3",
   "version": "3.6.5"
  },
  "toc": {
   "base_numbering": 1,
   "nav_menu": {},
   "number_sections": true,
   "sideBar": true,
   "skip_h1_title": false,
   "title_cell": "Table of Contents",
   "title_sidebar": "Contents",
   "toc_cell": false,
   "toc_position": {},
   "toc_section_display": true,
   "toc_window_display": false
  }
 },
 "nbformat": 4,
 "nbformat_minor": 2
}
