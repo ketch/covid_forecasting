{
 "cells": [
  {
   "cell_type": "code",
   "execution_count": 1,
   "metadata": {},
   "outputs": [],
   "source": [
    "%matplotlib inline\n",
    "import numpy as np\n",
    "from covid_forecast import compute_and_plot, fit_q_and_forecast\n",
    "import matplotlib.pyplot as plt\n",
    "import matplotlib\n",
    "from ipywidgets import interact, widgets\n",
    "import data\n",
    "import matplotlib.dates as mdates\n",
    "import warnings\n",
    "import csv\n",
    "import matplotlib.dates as mdates\n",
    "from covid_forecast import *\n",
    "warnings.filterwarnings('ignore')\n",
    "plt.style.use('seaborn-poster')\n",
    "matplotlib.rcParams['figure.figsize'] = (10., 6.)"
   ]
  },
  {
   "cell_type": "markdown",
   "metadata": {},
   "source": [
    "1. I  want to know the total number of deaths avoided from easiest starting date to do this  — to today. Thus realized data (not future projections)."
   ]
  },
  {
   "cell_type": "code",
   "execution_count": 6,
   "metadata": {},
   "outputs": [],
   "source": [
    "def estimate_deaths_averted(region,beta,gamma,dthresh,dthresh_min,imult,undercount_factor,ifr_val):\n",
    "    N = data.get_population(region)\n",
    "    data_dates, cum_cases, cum_deaths = data.load_time_series(region)\n",
    "    \n",
    "    no_interv_dates, no_interv_cum_deaths, no_interv_new_infections = \\\n",
    "        no_intervention_scenario(region,beta,gamma,undercount_factor,\n",
    "                                 dthresh,dthresh_min,imult=imult,forecast_length=0,ifr_val=ifr_val)\n",
    "    print(no_interv_dates[0])\n",
    "    return no_interv_cum_deaths[-1]-cum_deaths[-1]*undercount_factor"
   ]
  },
  {
   "cell_type": "code",
   "execution_count": 13,
   "metadata": {},
   "outputs": [],
   "source": [
    "betas = [0.25, 0.27, 0.29]\n",
    "gammas = [0.06, 0.07, 0.08]\n",
    "ifr_vals = ['mean','high','low']\n",
    "dthresh = 20\n",
    "dthresh_min = 20\n",
    "imults = [8, 16, 20]\n",
    "undercount_factors = [1.0, 1.5, 2.0]"
   ]
  },
  {
   "cell_type": "code",
   "execution_count": 14,
   "metadata": {
    "scrolled": false
   },
   "outputs": [
    {
     "name": "stdout",
     "output_type": "stream",
     "text": [
      "2020-04-01 00:00:00\n",
      "2020-03-30 00:00:00\n",
      "2020-03-28 00:00:00\n",
      "2020-04-01 00:00:00\n",
      "2020-03-30 00:00:00\n",
      "2020-03-28 00:00:00\n",
      "2020-04-01 00:00:00\n",
      "2020-03-30 00:00:00\n",
      "2020-03-28 00:00:00\n",
      "2020-04-01 00:00:00\n",
      "2020-03-30 00:00:00\n",
      "2020-03-28 00:00:00\n",
      "2020-04-01 00:00:00\n",
      "2020-03-30 00:00:00\n",
      "2020-03-28 00:00:00\n",
      "2020-04-01 00:00:00\n",
      "2020-03-30 00:00:00\n",
      "2020-03-28 00:00:00\n",
      "2020-04-01 00:00:00\n",
      "2020-03-30 00:00:00\n",
      "2020-03-28 00:00:00\n",
      "2020-04-01 00:00:00\n",
      "2020-03-30 00:00:00\n",
      "2020-03-28 00:00:00\n",
      "2020-04-01 00:00:00\n",
      "2020-03-30 00:00:00\n",
      "2020-03-28 00:00:00\n",
      "2020-04-01 00:00:00\n",
      "2020-03-30 00:00:00\n",
      "2020-03-28 00:00:00\n",
      "2020-04-01 00:00:00\n",
      "2020-03-30 00:00:00\n",
      "2020-03-28 00:00:00\n",
      "2020-04-01 00:00:00\n",
      "2020-03-30 00:00:00\n",
      "2020-03-28 00:00:00\n",
      "2020-04-01 00:00:00\n",
      "2020-03-30 00:00:00\n",
      "2020-03-28 00:00:00\n",
      "2020-04-01 00:00:00\n",
      "2020-03-30 00:00:00\n",
      "2020-03-28 00:00:00\n",
      "2020-04-01 00:00:00\n",
      "2020-03-30 00:00:00\n",
      "2020-03-28 00:00:00\n",
      "2020-04-01 00:00:00\n",
      "2020-03-30 00:00:00\n",
      "2020-03-28 00:00:00\n",
      "2020-04-01 00:00:00\n",
      "2020-03-30 00:00:00\n",
      "2020-03-28 00:00:00\n",
      "2020-04-01 00:00:00\n",
      "2020-03-30 00:00:00\n",
      "2020-03-28 00:00:00\n",
      "2020-04-01 00:00:00\n",
      "2020-03-30 00:00:00\n",
      "2020-03-28 00:00:00\n",
      "2020-04-01 00:00:00\n",
      "2020-03-30 00:00:00\n",
      "2020-03-28 00:00:00\n",
      "2020-04-01 00:00:00\n",
      "2020-03-30 00:00:00\n",
      "2020-03-28 00:00:00\n",
      "2020-04-01 00:00:00\n",
      "2020-03-30 00:00:00\n",
      "2020-03-28 00:00:00\n",
      "2020-04-01 00:00:00\n",
      "2020-03-30 00:00:00\n",
      "2020-03-28 00:00:00\n",
      "2020-04-01 00:00:00\n",
      "2020-03-30 00:00:00\n",
      "2020-03-28 00:00:00\n",
      "2020-04-01 00:00:00\n",
      "2020-03-30 00:00:00\n",
      "2020-03-28 00:00:00\n",
      "2020-04-01 00:00:00\n",
      "2020-03-30 00:00:00\n",
      "2020-03-28 00:00:00\n",
      "2020-04-01 00:00:00\n",
      "2020-03-30 00:00:00\n",
      "2020-03-28 00:00:00\n",
      "2020-04-01 00:00:00\n",
      "2020-03-30 00:00:00\n",
      "2020-03-28 00:00:00\n",
      "2020-04-01 00:00:00\n",
      "2020-03-30 00:00:00\n",
      "2020-03-28 00:00:00\n",
      "2020-04-01 00:00:00\n",
      "2020-03-30 00:00:00\n",
      "2020-03-28 00:00:00\n",
      "2020-04-01 00:00:00\n",
      "2020-03-30 00:00:00\n",
      "2020-03-28 00:00:00\n",
      "2020-04-01 00:00:00\n",
      "2020-03-30 00:00:00\n",
      "2020-03-28 00:00:00\n",
      "2020-04-01 00:00:00\n",
      "2020-03-30 00:00:00\n",
      "2020-03-28 00:00:00\n",
      "2020-04-01 00:00:00\n",
      "2020-03-30 00:00:00\n",
      "2020-03-28 00:00:00\n",
      "2020-04-01 00:00:00\n",
      "2020-03-30 00:00:00\n",
      "2020-03-28 00:00:00\n",
      "2020-04-01 00:00:00\n",
      "2020-03-30 00:00:00\n",
      "2020-03-28 00:00:00\n",
      "2020-04-01 00:00:00\n",
      "2020-03-30 00:00:00\n",
      "2020-03-28 00:00:00\n",
      "2020-04-01 00:00:00\n",
      "2020-03-30 00:00:00\n",
      "2020-03-28 00:00:00\n",
      "2020-04-01 00:00:00\n",
      "2020-03-30 00:00:00\n",
      "2020-03-28 00:00:00\n",
      "2020-04-01 00:00:00\n",
      "2020-03-30 00:00:00\n",
      "2020-03-28 00:00:00\n",
      "2020-04-01 00:00:00\n",
      "2020-03-30 00:00:00\n",
      "2020-03-28 00:00:00\n",
      "2020-04-01 00:00:00\n",
      "2020-03-30 00:00:00\n",
      "2020-03-28 00:00:00\n",
      "2020-04-01 00:00:00\n",
      "2020-03-30 00:00:00\n",
      "2020-03-28 00:00:00\n",
      "2020-04-01 00:00:00\n",
      "2020-03-30 00:00:00\n",
      "2020-03-28 00:00:00\n",
      "2020-04-01 00:00:00\n",
      "2020-03-30 00:00:00\n",
      "2020-03-28 00:00:00\n",
      "2020-04-01 00:00:00\n",
      "2020-03-30 00:00:00\n",
      "2020-03-28 00:00:00\n",
      "2020-04-01 00:00:00\n",
      "2020-03-30 00:00:00\n",
      "2020-03-28 00:00:00\n",
      "2020-04-01 00:00:00\n",
      "2020-03-30 00:00:00\n",
      "2020-03-28 00:00:00\n",
      "2020-04-01 00:00:00\n",
      "2020-03-30 00:00:00\n",
      "2020-03-28 00:00:00\n",
      "2020-04-01 00:00:00\n",
      "2020-03-30 00:00:00\n",
      "2020-03-28 00:00:00\n",
      "2020-04-01 00:00:00\n",
      "2020-03-30 00:00:00\n",
      "2020-03-28 00:00:00\n",
      "2020-04-01 00:00:00\n",
      "2020-03-30 00:00:00\n",
      "2020-03-28 00:00:00\n",
      "2020-04-01 00:00:00\n",
      "2020-03-30 00:00:00\n",
      "2020-03-28 00:00:00\n",
      "2020-04-01 00:00:00\n",
      "2020-03-30 00:00:00\n",
      "2020-03-28 00:00:00\n",
      "2020-04-01 00:00:00\n",
      "2020-03-30 00:00:00\n",
      "2020-03-28 00:00:00\n",
      "2020-04-01 00:00:00\n",
      "2020-03-30 00:00:00\n",
      "2020-03-28 00:00:00\n",
      "2020-04-01 00:00:00\n",
      "2020-03-30 00:00:00\n",
      "2020-03-28 00:00:00\n",
      "2020-04-01 00:00:00\n",
      "2020-03-30 00:00:00\n",
      "2020-03-28 00:00:00\n",
      "2020-04-01 00:00:00\n",
      "2020-03-30 00:00:00\n",
      "2020-03-28 00:00:00\n",
      "2020-04-01 00:00:00\n",
      "2020-03-30 00:00:00\n",
      "2020-03-28 00:00:00\n",
      "2020-04-01 00:00:00\n",
      "2020-03-30 00:00:00\n",
      "2020-03-28 00:00:00\n",
      "2020-04-01 00:00:00\n",
      "2020-03-30 00:00:00\n",
      "2020-03-28 00:00:00\n",
      "2020-04-01 00:00:00\n",
      "2020-03-30 00:00:00\n",
      "2020-03-28 00:00:00\n",
      "2020-04-01 00:00:00\n",
      "2020-03-30 00:00:00\n",
      "2020-03-28 00:00:00\n",
      "2020-04-01 00:00:00\n",
      "2020-03-30 00:00:00\n",
      "2020-03-28 00:00:00\n",
      "2020-04-01 00:00:00\n",
      "2020-03-30 00:00:00\n",
      "2020-03-28 00:00:00\n",
      "2020-04-01 00:00:00\n",
      "2020-03-30 00:00:00\n",
      "2020-03-28 00:00:00\n",
      "2020-04-01 00:00:00\n",
      "2020-03-30 00:00:00\n",
      "2020-03-28 00:00:00\n",
      "2020-04-01 00:00:00\n",
      "2020-03-30 00:00:00\n",
      "2020-03-28 00:00:00\n",
      "2020-04-01 00:00:00\n",
      "2020-03-30 00:00:00\n",
      "2020-03-28 00:00:00\n",
      "2020-04-01 00:00:00\n",
      "2020-03-30 00:00:00\n",
      "2020-03-28 00:00:00\n",
      "2020-04-01 00:00:00\n",
      "2020-03-30 00:00:00\n",
      "2020-03-28 00:00:00\n",
      "2020-04-01 00:00:00\n",
      "2020-03-30 00:00:00\n",
      "2020-03-28 00:00:00\n",
      "2020-04-01 00:00:00\n",
      "2020-03-30 00:00:00\n",
      "2020-03-28 00:00:00\n",
      "2020-04-01 00:00:00\n",
      "2020-03-30 00:00:00\n",
      "2020-03-28 00:00:00\n",
      "2020-04-01 00:00:00\n",
      "2020-03-30 00:00:00\n",
      "2020-03-28 00:00:00\n",
      "2020-04-01 00:00:00\n",
      "2020-03-30 00:00:00\n",
      "2020-03-28 00:00:00\n",
      "2020-04-01 00:00:00\n",
      "2020-03-30 00:00:00\n",
      "2020-03-28 00:00:00\n",
      "2020-04-01 00:00:00\n",
      "2020-03-30 00:00:00\n",
      "2020-03-28 00:00:00\n",
      "2020-04-01 00:00:00\n",
      "2020-03-30 00:00:00\n",
      "2020-03-28 00:00:00\n",
      "2020-04-01 00:00:00\n",
      "2020-03-30 00:00:00\n",
      "2020-03-28 00:00:00\n",
      "                Argentina:    2745   27843\n"
     ]
    }
   ],
   "source": [
    "#regions = ['China','Italy','Spain','US','France','United Kingdom','Korea, South','Germany']\n",
    "regions = ['Argentina']\n",
    "for region in regions:\n",
    "    da_min = 1e99\n",
    "    da_max = 0\n",
    "    for beta in betas:\n",
    "        for gamma in gammas:\n",
    "            for ifr_val in ifr_vals:\n",
    "                for imult in imults:\n",
    "                    for undercount_factor in undercount_factors:\n",
    "                        da = estimate_deaths_averted(region,beta,gamma,\n",
    "                                                     dthresh,dthresh_min,imult,\n",
    "                                                     undercount_factor,ifr_val)\n",
    "                        #if (da < da_min) or (da>da_max):\n",
    "                        #    print(beta,gamma,ifr_val,imult,undercount_factor,da)\n",
    "                        da_min = min(da_min,da)\n",
    "                        da_max = max(da_max,da)\n",
    "    print('{:>25}: {:7.0f} {:7.0f}'.format(region, da_min, da_max))"
   ]
  },
  {
   "cell_type": "code",
   "execution_count": 10,
   "metadata": {},
   "outputs": [
    {
     "name": "stdout",
     "output_type": "stream",
     "text": [
      "2020-03-30 00:00:00\n"
     ]
    },
    {
     "data": {
      "text/plain": [
       "11728.642519969679"
      ]
     },
     "execution_count": 10,
     "metadata": {},
     "output_type": "execute_result"
    }
   ],
   "source": [
    "estimate_deaths_averted('Argentina',0.27,0.07,20,10,16,1.5,'mean')"
   ]
  },
  {
   "cell_type": "code",
   "execution_count": 11,
   "metadata": {},
   "outputs": [],
   "source": [
    "data_dates, cum_cases, cum_deaths = data.load_time_series('Argentina')"
   ]
  },
  {
   "cell_type": "code",
   "execution_count": 12,
   "metadata": {},
   "outputs": [
    {
     "data": {
      "text/plain": [
       "[<matplotlib.lines.Line2D at 0x1254824e0>]"
      ]
     },
     "execution_count": 12,
     "metadata": {},
     "output_type": "execute_result"
    },
    {
     "data": {
      "image/png": "[encoded data removed]",
      "text/plain": [
       "<Figure size 720x432 with 1 Axes>"
      ]
     },
     "metadata": {},
     "output_type": "display_data"
    }
   ],
   "source": [
    "plt.plot_date(data_dates,cum_deaths)"
   ]
  },
  {
   "cell_type": "code",
   "execution_count": 15,
   "metadata": {},
   "outputs": [],
   "source": [
    "beta = 0.27\n",
    "gamma - 0.07\n",
    "ifr_val = 'mean'\n",
    "dthresh = 50\n",
    "dthresh_min = 20\n",
    "imult = 12\n",
    "undercount_factor = 1.5"
   ]
  },
  {
   "cell_type": "code",
   "execution_count": 16,
   "metadata": {},
   "outputs": [
    {
     "name": "stdout",
     "output_type": "stream",
     "text": [
      "                    China: 8635354\n",
      "                    Italy:  413913\n",
      "                    Spain:  173285\n",
      "                       US:  290729\n",
      "                   France:  198386\n",
      "           United Kingdom:  110129\n",
      "             Korea, South:  101615\n",
      "                  Germany:  100187\n"
     ]
    }
   ],
   "source": [
    "for region in regions:\n",
    "    da = estimate_deaths_averted(region,beta,gamma,\n",
    "                                 dthresh,dthresh_min,imult,\n",
    "                                 undercount_factor,ifr_val)\n",
    "    print('{:>25}: {:7.0f}'.format(region, da))"
   ]
  },
  {
   "cell_type": "code",
   "execution_count": 2,
   "metadata": {
    "scrolled": false
   },
   "outputs": [
    {
     "name": "stdout",
     "output_type": "stream",
     "text": [
      "              Afghanistan:     157     140    36 04-13\n"
     ]
    },
    {
     "ename": "Exception",
     "evalue": "",
     "output_type": "error",
     "traceback": [
      "\u001b[0;31m---------------------------------------------------------------------------\u001b[0m",
      "\u001b[0;31mException\u001b[0m                                 Traceback (most recent call last)",
      "\u001b[0;32m<ipython-input-2-e612ae37882e>\u001b[0m in \u001b[0;36m<module>\u001b[0;34m\u001b[0m\n\u001b[1;32m     27\u001b[0m \u001b[0;34m\u001b[0m\u001b[0m\n\u001b[1;32m     28\u001b[0m     \u001b[0mno_interv_dates\u001b[0m\u001b[0;34m,\u001b[0m \u001b[0mno_interv_cum_deaths\u001b[0m\u001b[0;34m,\u001b[0m \u001b[0mno_interv_new_infections\u001b[0m \u001b[0;34m=\u001b[0m\u001b[0;31m \u001b[0m\u001b[0;31m\\\u001b[0m\u001b[0;34m\u001b[0m\u001b[0m\n\u001b[0;32m---> 29\u001b[0;31m             \u001b[0mno_intervention_scenario\u001b[0m\u001b[0;34m(\u001b[0m\u001b[0mregion\u001b[0m\u001b[0;34m,\u001b[0m\u001b[0mdthresh\u001b[0m\u001b[0;34m=\u001b[0m\u001b[0mdth\u001b[0m\u001b[0;34m,\u001b[0m\u001b[0mimult\u001b[0m\u001b[0;34m=\u001b[0m\u001b[0mimult\u001b[0m\u001b[0;34m,\u001b[0m\u001b[0mforecast_length\u001b[0m\u001b[0;34m=\u001b[0m\u001b[0;36m0\u001b[0m\u001b[0;34m)\u001b[0m\u001b[0;34m\u001b[0m\u001b[0m\n\u001b[0m\u001b[1;32m     30\u001b[0m     \u001b[0mstart_date\u001b[0m \u001b[0;34m=\u001b[0m \u001b[0mdatetime\u001b[0m\u001b[0;34m.\u001b[0m\u001b[0mstrftime\u001b[0m\u001b[0;34m(\u001b[0m\u001b[0mno_interv_dates\u001b[0m\u001b[0;34m[\u001b[0m\u001b[0;36m0\u001b[0m\u001b[0;34m]\u001b[0m\u001b[0;34m,\u001b[0m\u001b[0;34m\"%m-%d\"\u001b[0m\u001b[0;34m)\u001b[0m\u001b[0;34m\u001b[0m\u001b[0m\n\u001b[1;32m     31\u001b[0m     \u001b[0mthis_saved\u001b[0m \u001b[0;34m=\u001b[0m \u001b[0mno_interv_cum_deaths\u001b[0m\u001b[0;34m[\u001b[0m\u001b[0;34m-\u001b[0m\u001b[0;36m1\u001b[0m\u001b[0;34m]\u001b[0m\u001b[0;34m-\u001b[0m\u001b[0mcum_deaths\u001b[0m\u001b[0;34m[\u001b[0m\u001b[0;34m-\u001b[0m\u001b[0;36m1\u001b[0m\u001b[0;34m]\u001b[0m\u001b[0;34m\u001b[0m\u001b[0m\n",
      "\u001b[0;32m~/Research/Projects/covid_forecasting/covid_forecast.py\u001b[0m in \u001b[0;36mno_intervention_scenario\u001b[0;34m(region, beta, gamma, undercount_factor, dthresh, dthresh_min, imult, forecast_length)\u001b[0m\n\u001b[1;32m    504\u001b[0m     \u001b[0mdth\u001b[0m \u001b[0;34m=\u001b[0m \u001b[0mdthresh\u001b[0m\u001b[0;34m\u001b[0m\u001b[0m\n\u001b[1;32m    505\u001b[0m     \u001b[0;32mif\u001b[0m \u001b[0mcum_deaths\u001b[0m\u001b[0;34m[\u001b[0m\u001b[0;34m-\u001b[0m\u001b[0;36m1\u001b[0m\u001b[0;34m]\u001b[0m\u001b[0;34m<\u001b[0m\u001b[0mdthresh\u001b[0m\u001b[0;34m:\u001b[0m\u001b[0;34m\u001b[0m\u001b[0m\n\u001b[0;32m--> 506\u001b[0;31m         \u001b[0;32mif\u001b[0m \u001b[0mcum_deaths\u001b[0m\u001b[0;34m[\u001b[0m\u001b[0;34m-\u001b[0m\u001b[0;36m1\u001b[0m\u001b[0;34m]\u001b[0m\u001b[0;34m<\u001b[0m\u001b[0mdthresh_min\u001b[0m\u001b[0;34m:\u001b[0m \u001b[0;32mraise\u001b[0m\u001b[0;34m(\u001b[0m\u001b[0mException\u001b[0m\u001b[0;34m)\u001b[0m\u001b[0;34m\u001b[0m\u001b[0m\n\u001b[0m\u001b[1;32m    507\u001b[0m         \u001b[0;32melse\u001b[0m\u001b[0;34m:\u001b[0m \u001b[0mdth\u001b[0m \u001b[0;34m=\u001b[0m \u001b[0mdthresh_min\u001b[0m\u001b[0;34m\u001b[0m\u001b[0m\n\u001b[1;32m    508\u001b[0m     \u001b[0;32mif\u001b[0m \u001b[0mregion\u001b[0m \u001b[0;34m==\u001b[0m \u001b[0;34m'Korea, South'\u001b[0m\u001b[0;34m:\u001b[0m\u001b[0;34m\u001b[0m\u001b[0m\n",
      "\u001b[0;31mException\u001b[0m: "
     ]
    }
   ],
   "source": [
    "regions = list(data.population.keys())\n",
    "ifr = default_ifr\n",
    "gamma = default_gamma\n",
    "beta = default_beta\n",
    "totalpop = 0\n",
    "saved = 0\n",
    "adjusted_saved = 0\n",
    "undercount_factor = 1.45\n",
    "dthresh = 20\n",
    "dthresh_min = 10\n",
    "imult = 8\n",
    "\n",
    "for region in regions:\n",
    "    ifr = avg_ifr(region)\n",
    "    N = data.get_population(region)\n",
    "    data_dates, cum_cases, cum_deaths = data.load_time_series(region)\n",
    "\n",
    "    dth = dthresh\n",
    "    if cum_deaths[-1]<dthresh:\n",
    "        if cum_deaths[-1]<dthresh_min: continue\n",
    "        else: dth = dthresh_min\n",
    "        \n",
    "    \n",
    "    totalpop += N\n",
    "    \n",
    "    past_dates, past_new_infections = get_past_infections(region,beta,gamma)\n",
    "\n",
    "    no_interv_dates, no_interv_cum_deaths, no_interv_new_infections = \\\n",
    "            no_intervention_scenario(region,dthresh=dth,imult=imult,forecast_length=0)\n",
    "    start_date = datetime.strftime(no_interv_dates[0],\"%m-%d\")\n",
    "    this_saved = no_interv_cum_deaths[-1]-cum_deaths[-1]\n",
    "    this_adj_saved = no_interv_cum_deaths[-1] - cum_deaths[-1]*undercount_factor\n",
    "    print('{:>25}: {:7.0f} {:7.0f} {:5.0f} {}'.format(region, \n",
    "                                                    this_saved, this_adj_saved, \n",
    "                                                    cum_deaths[-1], start_date))\n",
    "    \n",
    "    saved += this_saved\n",
    "    adjusted_saved += this_adj_saved\n",
    "    \n",
    "\n",
    "print(saved, adjusted_saved, totalpop)"
   ]
  },
  {
   "cell_type": "code",
   "execution_count": 5,
   "metadata": {},
   "outputs": [
    {
     "name": "stdout",
     "output_type": "stream",
     "text": [
      "Total lives saved to date: 9004375\n",
      "Accounting for 83.8% of world population\n",
      "Adjusted for undercounting: 8947617\n"
     ]
    }
   ],
   "source": [
    "print('Total lives saved to date: {:.0f}'.format(saved))\n",
    "print('Accounting for {:.1f}% of world population'.format(totalpop/7.7e9*100))\n",
    "undercount_factor = 1.454578788156568\n",
    "print('Adjusted for undercounting: {:.0f}'.format(adjusted_saved))"
   ]
  },
  {
   "cell_type": "code",
   "execution_count": 10,
   "metadata": {},
   "outputs": [
    {
     "name": "stdout",
     "output_type": "stream",
     "text": [
      "                    China: 8133682 8132177  3345 01-25\n",
      "                    Italy:  290880  281400 21067 03-02\n",
      "                    Spain:   76723   68598 18056 03-10\n",
      "                       US:   91953   80329 25832 03-11\n",
      "                   France:   98536   91449 15748 03-11\n",
      "           United Kingdom:   47608   42150 12129 03-16\n",
      "             Korea, South:   85380   85280   222 02-24\n",
      "                  Germany:   26561   25079  3294 03-19\n"
     ]
    }
   ],
   "source": [
    "undercount_factor = 1.45\n",
    "dthresh = 50\n",
    "dthresh_min = 10\n",
    "imult = 8\n",
    "\n",
    "regions = ['China','Italy','Spain','US','France','United Kingdom','Korea, South','Germany']\n",
    "for region in regions:\n",
    "    ifr = avg_ifr(region)\n",
    "    N = data.get_population(region)\n",
    "    data_dates, cum_cases, cum_deaths = data.load_time_series(region)\n",
    "    dth = dthresh\n",
    "    if cum_deaths[-1]<dthresh:\n",
    "        if cum_deaths[-1]<dthresh_min: continue\n",
    "        else: dth = dthresh_min\n",
    "    if region == 'Korea, South':\n",
    "        dth = 10\n",
    "            \n",
    "    past_dates, past_new_infections = get_past_infections(region,beta,gamma)\n",
    "\n",
    "    no_interv_dates, no_interv_cum_deaths, no_interv_new_infections = \\\n",
    "            no_intervention_scenario(region,dthresh=dth,imult=imult,\n",
    "                                     undercount_factor=undercount_factor,\n",
    "                                     forecast_length=0)\n",
    "    start_date = datetime.strftime(no_interv_dates[0],\"%m-%d\")\n",
    "    this_saved = no_interv_cum_deaths[-1]-cum_deaths[-1]\n",
    "    this_adj_saved = no_interv_cum_deaths[-1] - cum_deaths[-1]*undercount_factor\n",
    "    print('{:>25}: {:7.0f} {:7.0f} {:5.0f} {}'.format(region, \n",
    "                                                    this_saved, this_adj_saved, \n",
    "                                                    cum_deaths[-1], start_date))\n",
    "    \n",
    "    saved += this_saved\n",
    "    adjusted_saved += this_adj_saved"
   ]
  },
  {
   "cell_type": "code",
   "execution_count": 23,
   "metadata": {},
   "outputs": [],
   "source": [
    "excess_mort_spain = [1273-1154, 1348-1153, 1416-1150, 1564-1148.5, \n",
    "                     1727-1147.75, 1817-1143.5, 1718-1141.5, 1913-1137.5, \n",
    "                     2152-1125.5, 2240-1128.25, 2263-1125, 2390-1121.5, \n",
    "                     2408-1121.5, 2216-1121.5, 2328-1121.5, 2476-1118.5, \n",
    "                     2439-1115.5, 2369-1109.5, 2303-1108]\n"
   ]
  },
  {
   "cell_type": "code",
   "execution_count": 24,
   "metadata": {},
   "outputs": [
    {
     "name": "stdout",
     "output_type": "stream",
     "text": [
      "DatetimeIndex(['2020-03-17', '2020-03-18', '2020-03-19', '2020-03-20',\n",
      "               '2020-03-21', '2020-03-22', '2020-03-23', '2020-03-24',\n",
      "               '2020-03-25', '2020-03-26', '2020-03-27', '2020-03-28',\n",
      "               '2020-03-29', '2020-03-30', '2020-03-31', '2020-04-01',\n",
      "               '2020-04-02', '2020-04-03', '2020-04-04'],\n",
      "              dtype='datetime64[ns]', freq='D')\n"
     ]
    }
   ],
   "source": [
    "data_dates, cum_cases, cum_deaths = data.load_time_series('Spain')\n",
    "print(data_dates[-31:-12])"
   ]
  },
  {
   "cell_type": "code",
   "execution_count": 29,
   "metadata": {},
   "outputs": [
    {
     "data": {
      "text/plain": [
       "19"
      ]
     },
     "execution_count": 29,
     "metadata": {},
     "output_type": "execute_result"
    }
   ],
   "source": [
    "len(excess_mort_spain)"
   ]
  },
  {
   "cell_type": "code",
   "execution_count": 28,
   "metadata": {},
   "outputs": [
    {
     "data": {
      "image/png": "[encoded data removed]",
      "text/plain": [
       "<Figure size 720x432 with 1 Axes>"
      ]
     },
     "metadata": {},
     "output_type": "display_data"
    }
   ],
   "source": [
    "offset = -13 # days from today to April 3rd\n",
    "plt.plot_date(data_dates[offset-19:offset],excess_mort_spain,'-')\n",
    "plt.plot_date(data_dates[offset-19:offset],np.diff(cum_deaths)[offset-19:offset],'-')\n",
    "plt.legend(['Excess mortality','Recorded COVID-19 deaths'])\n",
    "plt.title('Spain');"
   ]
  },
  {
   "cell_type": "code",
   "execution_count": 30,
   "metadata": {},
   "outputs": [
    {
     "name": "stdout",
     "output_type": "stream",
     "text": [
      "1.5462462187184893\n"
     ]
    }
   ],
   "source": [
    "print(np.sum(excess_mort_spain)/np.sum(np.diff(cum_deaths)[offset-len(excess_mort_spain):offset]))"
   ]
  },
  {
   "cell_type": "code",
   "execution_count": 20,
   "metadata": {},
   "outputs": [
    {
     "data": {
      "text/plain": [
       "16632.0"
      ]
     },
     "execution_count": 20,
     "metadata": {},
     "output_type": "execute_result"
    }
   ],
   "source": [
    "np.sum(excess_mort_spain)"
   ]
  },
  {
   "cell_type": "code",
   "execution_count": 22,
   "metadata": {},
   "outputs": [
    {
     "data": {
      "text/plain": [
       "11947"
      ]
     },
     "execution_count": 22,
     "metadata": {},
     "output_type": "execute_result"
    }
   ],
   "source": [
    "cum_deaths[-12]"
   ]
  },
  {
   "cell_type": "code",
   "execution_count": 10,
   "metadata": {},
   "outputs": [
    {
     "data": {
      "text/plain": [
       "18708"
      ]
     },
     "execution_count": 10,
     "metadata": {},
     "output_type": "execute_result"
    }
   ],
   "source": [
    "cum_deaths[-1]"
   ]
  },
  {
   "cell_type": "code",
   "execution_count": 14,
   "metadata": {
    "scrolled": false
   },
   "outputs": [
    {
     "data": {
      "text/plain": [
       "[<matplotlib.lines.Line2D at 0x12b469080>]"
      ]
     },
     "execution_count": 14,
     "metadata": {},
     "output_type": "execute_result"
    },
    {
     "data": {
      "image/png": "[encoded data removed]",
      "text/plain": [
       "<Figure size 720x432 with 1 Axes>"
      ]
     },
     "metadata": {},
     "output_type": "display_data"
    }
   ],
   "source": [
    "region='Spain'\n",
    "dthresh=50\n",
    "imult=8\n",
    "plotfun = plt.semilogy\n",
    "ifr = avg_ifr(region)\n",
    "\n",
    "#plotfun = plt.plot_date\n",
    "\n",
    "no_interv_dates, no_interv_cum_deaths, no_interv_new_infections = \\\n",
    "    no_intervention_scenario(region,forecast_length=0,undercount_factor=1.,\n",
    "                             dthresh=dthresh,imult=imult)\n",
    "\n",
    "#plotfun(no_interv_dates,no_interv_cum_deaths,'-')\n",
    "\n",
    "no_interv_dates, no_interv_cum_deaths, no_interv_new_infections = \\\n",
    "    no_intervention_scenario(region,forecast_length=0,undercount_factor=1.45,\n",
    "                             dthresh=dthresh,imult=imult)\n",
    "\n",
    "plotfun(no_interv_dates,no_interv_cum_deaths,'-')\n",
    "\n",
    "data_dates, cum_cases, cum_deaths = data.load_time_series(region)\n",
    "\n",
    "#plotfun(data_dates,cum_deaths,'-k')\n",
    "plotfun(data_dates,cum_deaths*1.45,'-k')"
   ]
  },
  {
   "cell_type": "code",
   "execution_count": 55,
   "metadata": {},
   "outputs": [
    {
     "data": {
      "text/plain": [
       "array([619, 431, 566])"
      ]
     },
     "execution_count": 55,
     "metadata": {},
     "output_type": "execute_result"
    }
   ],
   "source": [
    "np.diff(cum_deaths)[-3:]"
   ]
  },
  {
   "cell_type": "code",
   "execution_count": 56,
   "metadata": {},
   "outputs": [
    {
     "data": {
      "text/plain": [
       "DatetimeIndex(['2020-04-11', '2020-04-12', '2020-04-13'], dtype='datetime64[ns]', freq='D')"
      ]
     },
     "execution_count": 56,
     "metadata": {},
     "output_type": "execute_result"
    }
   ],
   "source": [
    "data_dates[-3:]"
   ]
  },
  {
   "cell_type": "markdown",
   "metadata": {},
   "source": [
    "Estimated lives saved as of March 31, for comparison with IC report Table 2 (page 10)."
   ]
  },
  {
   "cell_type": "code",
   "execution_count": 43,
   "metadata": {},
   "outputs": [
    {
     "name": "stdout",
     "output_type": "stream",
     "text": [
      "Austria 346\n",
      "Belgium 709\n",
      "Denmark 409\n",
      "France 7229\n",
      "Germany 1328\n",
      "Italy 37704\n",
      "Norway 151\n",
      "Spain 17870\n",
      "Sweden 532\n",
      "Switzerland 1273\n",
      "United Kingdom 2453\n"
     ]
    }
   ],
   "source": [
    "dthresh=20\n",
    "imult=8\n",
    "dthresh_min=10\n",
    "for region in ['Austria','Belgium','Denmark','France','Germany','Italy',\n",
    "               'Norway','Spain','Sweden','Switzerland','United Kingdom']:\n",
    "\n",
    "    data_dates, total_cases, cum_deaths = data.load_time_series(region)\n",
    "    dth = dthresh\n",
    "    if cum_deaths[-1]<dthresh:\n",
    "        if cum_deaths[-1]<dthresh_min: continue\n",
    "        else: dth = dthresh_min\n",
    "    \n",
    "    if region=='Spain': im = 25\n",
    "    else: im = 8\n",
    "    no_interv_dates, no_interv_cum_deaths, no_interv_new_infections = \\\n",
    "        no_intervention_scenario(region,forecast_length=0,undercount_factor=1.45,\n",
    "                                 dthresh=dthresh,imult=im)\n",
    "    print('{} {:.0f}'.format(region,no_interv_cum_deaths[-15]))"
   ]
  },
  {
   "cell_type": "code",
   "execution_count": 41,
   "metadata": {},
   "outputs": [
    {
     "data": {
      "text/plain": [
       "3"
      ]
     },
     "execution_count": 41,
     "metadata": {},
     "output_type": "execute_result"
    }
   ],
   "source": [
    "cum_deaths[-1]"
   ]
  },
  {
   "cell_type": "code",
   "execution_count": 42,
   "metadata": {},
   "outputs": [
    {
     "data": {
      "text/plain": [
       "'United Kingdom'"
      ]
     },
     "execution_count": 42,
     "metadata": {},
     "output_type": "execute_result"
    }
   ],
   "source": [
    "region"
   ]
  },
  {
   "cell_type": "code",
   "execution_count": 10,
   "metadata": {},
   "outputs": [
    {
     "data": {
      "text/plain": [
       "Timestamp('2020-03-31 00:00:00', freq='D')"
      ]
     },
     "execution_count": 10,
     "metadata": {},
     "output_type": "execute_result"
    }
   ],
   "source": [
    "no_interv_dates[-15]"
   ]
  },
  {
   "cell_type": "code",
   "execution_count": 22,
   "metadata": {},
   "outputs": [
    {
     "name": "stdout",
     "output_type": "stream",
     "text": [
      "2020-04-14 00:00:00 2020-04-15 00:00:00\n"
     ]
    },
    {
     "data": {
      "image/png": "[encoded data removed]",
      "text/plain": [
       "<Figure size 720x432 with 1 Axes>"
      ]
     },
     "metadata": {},
     "output_type": "display_data"
    }
   ],
   "source": [
    "region='Italy'\n",
    "dthresh=50\n",
    "imult=8\n",
    "plotfun = plt.semilogy\n",
    "#plotfun = plt.plot_date\n",
    "\n",
    "no_interv_dates, no_interv_cum_deaths, no_interv_new_infections = \\\n",
    "    no_intervention_scenario(region,forecast_length=0,undercount_factor=1.,\n",
    "                             dthresh=dthresh,imult=imult)\n",
    "\n",
    "#plotfun(no_interv_dates,no_interv_cum_deaths,'-')\n",
    "\n",
    "no_interv_dates, no_interv_cum_deaths, no_interv_new_infections = \\\n",
    "    no_intervention_scenario(region,forecast_length=0,undercount_factor=1.45,\n",
    "                             dthresh=dthresh,imult=imult)\n",
    "\n",
    "plotfun(no_interv_dates,no_interv_cum_deaths,'-')\n",
    "\n",
    "data_dates, cum_cases, cum_deaths = data.load_time_series(region)\n",
    "\n",
    "#plotfun(data_dates,cum_deaths,'-k')\n",
    "plotfun(data_dates,cum_deaths*1.45,'-k')\n",
    "print(data_dates[-1],no_interv_dates[-1])"
   ]
  },
  {
   "cell_type": "code",
   "execution_count": 17,
   "metadata": {},
   "outputs": [
    {
     "data": {
      "text/plain": [
       "[<matplotlib.lines.Line2D at 0x1260efbe0>]"
      ]
     },
     "execution_count": 17,
     "metadata": {},
     "output_type": "execute_result"
    },
    {
     "data": {
      "image/png": "[encoded data removed]",
      "text/plain": [
       "<Figure size 720x432 with 1 Axes>"
      ]
     },
     "metadata": {},
     "output_type": "display_data"
    }
   ],
   "source": [
    "region='US'\n",
    "dthresh=100\n",
    "imult=8\n",
    "plotfun = plt.semilogy\n",
    "#plotfun = plt.plot_date\n",
    "\n",
    "no_interv_dates, no_interv_cum_deaths, no_interv_new_infections = \\\n",
    "    no_intervention_scenario(region,forecast_length=0,undercount_factor=1.,\n",
    "                             dthresh=dthresh,imult=imult)\n",
    "\n",
    "#plotfun(no_interv_dates,no_interv_cum_deaths,'-')\n",
    "\n",
    "no_interv_dates, no_interv_cum_deaths, no_interv_new_infections = \\\n",
    "    no_intervention_scenario(region,forecast_length=0,undercount_factor=1.45,\n",
    "                             dthresh=dthresh,imult=imult)\n",
    "\n",
    "plotfun(no_interv_dates,no_interv_cum_deaths,'-')\n",
    "\n",
    "data_dates, cum_cases, cum_deaths = data.load_time_series(region)\n",
    "\n",
    "#plotfun(data_dates,cum_deaths,'-k')\n",
    "plotfun(data_dates,cum_deaths*1.45,'-k')"
   ]
  },
  {
   "cell_type": "code",
   "execution_count": 8,
   "metadata": {},
   "outputs": [
    {
     "data": {
      "text/plain": [
       "[<matplotlib.lines.Line2D at 0x123d07b70>]"
      ]
     },
     "execution_count": 8,
     "metadata": {},
     "output_type": "execute_result"
    },
    {
     "data": {
      "image/png": "[encoded data removed]",
      "text/plain": [
       "<Figure size 720x432 with 1 Axes>"
      ]
     },
     "metadata": {},
     "output_type": "display_data"
    }
   ],
   "source": [
    "region='France'\n",
    "dthresh=20\n",
    "imult=8\n",
    "plotfun = plt.semilogy\n",
    "#plotfun = plt.plot_date\n",
    "\n",
    "no_interv_dates, no_interv_cum_deaths, no_interv_new_infections = \\\n",
    "    no_intervention_scenario(region,forecast_length=0,undercount_factor=1.,\n",
    "                             dthresh=dthresh,imult=imult)\n",
    "\n",
    "#plotfun(no_interv_dates,no_interv_cum_deaths,'-')\n",
    "\n",
    "no_interv_dates, no_interv_cum_deaths, no_interv_new_infections = \\\n",
    "    no_intervention_scenario(region,forecast_length=0,undercount_factor=1.45,\n",
    "                             dthresh=dthresh,imult=imult)\n",
    "\n",
    "plotfun(no_interv_dates,no_interv_cum_deaths,'-')\n",
    "\n",
    "data_dates, cum_cases, cum_deaths = data.load_time_series(region)\n",
    "\n",
    "#plotfun(data_dates,cum_deaths,'-k')\n",
    "plotfun(data_dates,cum_deaths*1.45,'-k')"
   ]
  },
  {
   "cell_type": "code",
   "execution_count": 9,
   "metadata": {},
   "outputs": [
    {
     "data": {
      "text/plain": [
       "[<matplotlib.lines.Line2D at 0x1239b7630>]"
      ]
     },
     "execution_count": 9,
     "metadata": {},
     "output_type": "execute_result"
    },
    {
     "data": {
      "image/png": "[encoded data removed]",
      "text/plain": [
       "<Figure size 720x432 with 1 Axes>"
      ]
     },
     "metadata": {},
     "output_type": "display_data"
    }
   ],
   "source": [
    "region='Italy'\n",
    "dthresh=20\n",
    "imult=8\n",
    "plotfun = plt.semilogy\n",
    "#plotfun = plt.plot_date\n",
    "\n",
    "no_interv_dates, no_interv_cum_deaths, no_interv_new_infections = \\\n",
    "    no_intervention_scenario(region,forecast_length=0,undercount_factor=1.,\n",
    "                             dthresh=dthresh,imult=imult)\n",
    "\n",
    "#plotfun(no_interv_dates,no_interv_cum_deaths,'-')\n",
    "\n",
    "no_interv_dates, no_interv_cum_deaths, no_interv_new_infections = \\\n",
    "    no_intervention_scenario(region,forecast_length=0,undercount_factor=1.45,\n",
    "                             dthresh=dthresh,imult=imult)\n",
    "\n",
    "plotfun(no_interv_dates,no_interv_cum_deaths,'-')\n",
    "\n",
    "data_dates, cum_cases, cum_deaths = data.load_time_series(region)\n",
    "\n",
    "#plotfun(data_dates,cum_deaths,'-k')\n",
    "plotfun(data_dates,cum_deaths*1.45,'-k')"
   ]
  },
  {
   "cell_type": "code",
   "execution_count": 20,
   "metadata": {},
   "outputs": [
    {
     "data": {
      "text/plain": [
       "[<matplotlib.lines.Line2D at 0x126daee48>]"
      ]
     },
     "execution_count": 20,
     "metadata": {},
     "output_type": "execute_result"
    },
    {
     "data": {
      "image/png": "[encoded data removed]",
      "text/plain": [
       "<Figure size 720x432 with 1 Axes>"
      ]
     },
     "metadata": {},
     "output_type": "display_data"
    }
   ],
   "source": [
    "region='California'\n",
    "dthresh=10\n",
    "imult=8\n",
    "plotfun = plt.semilogy\n",
    "#plotfun = plt.plot_date\n",
    "\n",
    "no_interv_dates, no_interv_cum_deaths, no_interv_new_infections = \\\n",
    "    no_intervention_scenario(region,forecast_length=0,undercount_factor=1.,\n",
    "                             dthresh=dthresh,imult=imult)\n",
    "\n",
    "#plotfun(no_interv_dates,no_interv_cum_deaths,'-')\n",
    "\n",
    "no_interv_dates, no_interv_cum_deaths, no_interv_new_infections = \\\n",
    "    no_intervention_scenario(region,forecast_length=0,undercount_factor=1.45,\n",
    "                             dthresh=dthresh,imult=imult)\n",
    "\n",
    "plotfun(no_interv_dates,no_interv_cum_deaths,'-')\n",
    "\n",
    "data_dates, cum_cases, cum_deaths = data.load_time_series(region)\n",
    "\n",
    "#plotfun(data_dates,cum_deaths,'-k')\n",
    "plotfun(data_dates,cum_deaths*1.45,'-k')"
   ]
  },
  {
   "cell_type": "code",
   "execution_count": 30,
   "metadata": {},
   "outputs": [
    {
     "name": "stdout",
     "output_type": "stream",
     "text": [
      "Alabama: 774 732 93\n",
      "Arizona: 1224 1172 117\n",
      "Arkansas: 211 199 27\n",
      "California: 8534 8230 676\n",
      "Colorado: 2025 1895 290\n",
      "Connecticut: 1566 1317 554\n",
      "Delaware: 242 226 35\n",
      "District of Columbia: 233 211 50\n",
      "Florida: 3184 2977 460\n",
      "Georgia: 3208 3011 438\n",
      "Idaho: 95 83 27\n",
      "Illinois: 1880 1553 727\n",
      "Indiana: 1472 1317 343\n",
      "Iowa: 243 224 41\n",
      "Kansas: 309 284 56\n",
      "Kentucky: 607 563 98\n",
      "Louisiana: 2803 2425 840\n",
      "Maine: 204 196 19\n",
      "Maryland: 504 398 236\n",
      "Massachusetts: 1178 837 756\n",
      "Michigan: 1567 899 1486\n",
      "Minnesota: 481 450 70\n",
      "Mississippi: 706 663 96\n",
      "Missouri: 489 437 116\n",
      "Nebraska: 117 109 18\n",
      "Nevada: 854 803 113\n",
      "New Hampshire: 84 74 23\n",
      "New Jersey: 1875 818 2350\n",
      "New Mexico: 72 61 26\n",
      "New York: 468 -3755 9385\n",
      "North Carolina: 367 328 86\n",
      "Ohio: 1421 1307 253\n",
      "Oklahoma: 960 917 96\n",
      "Oregon: 717 694 52\n",
      "Pennsylvania: 1262 1025 525\n",
      "Rhode Island: 216 188 63\n",
      "South Carolina: 999 962 82\n",
      "Tennessee: 629 581 107\n",
      "Texas: 2106 1976 289\n",
      "Utah: 213 205 18\n",
      "Vermont: 389 376 27\n",
      "Virginia: 1398 1335 141\n",
      "Washington: 18628 18398 511\n",
      "Wisconsin: 1251 1186 145\n",
      "Puerto Rico: 272 252 44\n",
      "68039.42448558043 58137.17448558043 317571147.0\n"
     ]
    }
   ],
   "source": [
    "regions = list(data.US_state_population.keys())\n",
    "ifr = default_ifr\n",
    "gamma = default_gamma\n",
    "beta = default_beta\n",
    "totalpop = 0\n",
    "saved = 0\n",
    "adjusted_saved = 0\n",
    "undercount_factor = 1.45\n",
    "dthresh = 20\n",
    "dthresh_min = 10\n",
    "imult = 8\n",
    "\n",
    "for region in regions:\n",
    "    N = data.get_population(region)\n",
    "    data_dates, cum_cases, cum_deaths = data.load_time_series(region)\n",
    "\n",
    "    dth = dthresh\n",
    "    if cum_deaths[-1]<dthresh:\n",
    "        if cum_deaths[-1]<dthresh_min: continue\n",
    "        else: dth = dthresh_min\n",
    "        \n",
    "    \n",
    "    totalpop += N\n",
    "    \n",
    "    past_dates, past_new_infections = get_past_infections(region,ifr,beta,gamma)\n",
    "\n",
    "    no_interv_dates, no_interv_cum_deaths, no_interv_new_infections = \\\n",
    "            no_intervention_scenario(region,dthresh=dth,imult=imult,forecast_length=0)\n",
    "    this_saved = no_interv_cum_deaths[-3]-cum_deaths[-1]\n",
    "    this_adj_saved = no_interv_cum_deaths[-3] - cum_deaths[-1]*undercount_factor\n",
    "    print('{}: {:.0f} {:.0f} {:.0f}'.format(region, this_saved, this_adj_saved, cum_deaths[-1]))\n",
    "    \n",
    "    saved += this_saved\n",
    "    adjusted_saved += this_adj_saved\n",
    "    \n",
    "\n",
    "print(saved, adjusted_saved, totalpop)"
   ]
  },
  {
   "cell_type": "code",
   "execution_count": 31,
   "metadata": {},
   "outputs": [
    {
     "data": {
      "text/plain": [
       "Timestamp('2020-04-12 00:00:00', freq='D')"
      ]
     },
     "execution_count": 31,
     "metadata": {},
     "output_type": "execute_result"
    }
   ],
   "source": [
    "data_dates[-1]"
   ]
  },
  {
   "cell_type": "code",
   "execution_count": 32,
   "metadata": {},
   "outputs": [
    {
     "data": {
      "text/plain": [
       "Timestamp('2020-04-12 00:00:00', freq='D')"
      ]
     },
     "execution_count": 32,
     "metadata": {},
     "output_type": "execute_result"
    }
   ],
   "source": [
    "no_interv_dates[-3]"
   ]
  },
  {
   "cell_type": "code",
   "execution_count": 5,
   "metadata": {},
   "outputs": [
    {
     "data": {
      "text/plain": [
       "[<matplotlib.lines.Line2D at 0x11dbe5d30>]"
      ]
     },
     "execution_count": 5,
     "metadata": {},
     "output_type": "execute_result"
    },
    {
     "data": {
      "image/png": "[encoded data removed]",
      "text/plain": [
       "<Figure size 720x432 with 1 Axes>"
      ]
     },
     "metadata": {},
     "output_type": "display_data"
    }
   ],
   "source": [
    "region='New York'\n",
    "dthresh=20\n",
    "imult=15\n",
    "plotfun = plt.semilogy\n",
    "#plotfun = plt.plot_date\n",
    "\n",
    "no_interv_dates, no_interv_cum_deaths, no_interv_new_infections = \\\n",
    "    no_intervention_scenario(region,forecast_length=0,undercount_factor=1.,\n",
    "                             dthresh=dthresh,imult=imult)\n",
    "\n",
    "plotfun(no_interv_dates,no_interv_cum_deaths,'-')\n",
    "\n",
    "no_interv_dates, no_interv_cum_deaths, no_interv_new_infections = \\\n",
    "    no_intervention_scenario(region,forecast_length=0,undercount_factor=1.45,\n",
    "                             dthresh=dthresh,imult=imult)\n",
    "\n",
    "#plotfun(no_interv_dates,no_interv_cum_deaths,'-')\n",
    "\n",
    "data_dates, cum_cases, cum_deaths = data.load_time_series(region)\n",
    "\n",
    "plotfun(data_dates,cum_deaths,'-k')\n",
    "#plotfun(data_dates,cum_deaths*1.45,'-k')"
   ]
  },
  {
   "cell_type": "code",
   "execution_count": 26,
   "metadata": {},
   "outputs": [
    {
     "data": {
      "text/plain": [
       "Timestamp('2020-04-12 00:00:00', freq='D')"
      ]
     },
     "execution_count": 26,
     "metadata": {},
     "output_type": "execute_result"
    }
   ],
   "source": [
    "data_dates[-1]"
   ]
  },
  {
   "cell_type": "code",
   "execution_count": 27,
   "metadata": {},
   "outputs": [
    {
     "data": {
      "text/plain": [
       "Timestamp('2020-04-14 00:00:00', freq='D')"
      ]
     },
     "execution_count": 27,
     "metadata": {},
     "output_type": "execute_result"
    }
   ],
   "source": [
    "no_interv_dates[-1]"
   ]
  },
  {
   "cell_type": "code",
   "execution_count": null,
   "metadata": {},
   "outputs": [],
   "source": []
  }
 ],
 "metadata": {
  "kernelspec": {
   "display_name": "Python 3",
   "language": "python",
   "name": "python3"
  },
  "language_info": {
   "codemirror_mode": {
    "name": "ipython",
    "version": 3
   },
   "file_extension": ".py",
   "mimetype": "text/x-python",
   "name": "python",
   "nbconvert_exporter": "python",
   "pygments_lexer": "ipython3",
   "version": "3.6.5"
  },
  "toc": {
   "base_numbering": 1,
   "nav_menu": {},
   "number_sections": true,
   "sideBar": true,
   "skip_h1_title": false,
   "title_cell": "Table of Contents",
   "title_sidebar": "Contents",
   "toc_cell": false,
   "toc_position": {},
   "toc_section_display": true,
   "toc_window_display": false
  }
 },
 "nbformat": 4,
 "nbformat_minor": 2
}
