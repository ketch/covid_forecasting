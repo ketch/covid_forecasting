{
 "cells": [
  {
   "cell_type": "code",
   "execution_count": 1,
   "metadata": {},
   "outputs": [],
   "source": [
    "%matplotlib inline\n",
    "import numpy as np\n",
    "import matplotlib.pyplot as plt\n",
    "import matplotlib\n",
    "from ipywidgets import interact, widgets\n",
    "import data\n",
    "import matplotlib.dates as mdates\n",
    "import warnings\n",
    "import csv\n",
    "import deconvolution\n",
    "import datetime\n",
    "from covid_forecast import *\n",
    "warnings.filterwarnings('ignore')\n",
    "plt.style.use('seaborn-poster')\n",
    "matplotlib.rcParams['figure.figsize'] = (10., 6.)\n",
    "import matplotlib.ticker as mtick\n",
    "fmt = '%.0f%%' # Format you want the ticks, e.g. '40%'\n",
    "yticks = mtick.FormatStrFormatter(fmt)"
   ]
  },
  {
   "cell_type": "code",
   "execution_count": 2,
   "metadata": {},
   "outputs": [
    {
     "name": "stdout",
     "output_type": "stream",
     "text": [
      "0.7298098134195858 0.5286910206811646 0.9309286061580071\n"
     ]
    },
    {
     "ename": "TypeError",
     "evalue": "forecast() got an unexpected keyword argument 'compute_interval'",
     "output_type": "error",
     "traceback": [
      "\u001b[0;31m---------------------------------------------------------------------------\u001b[0m",
      "\u001b[0;31mTypeError\u001b[0m                                 Traceback (most recent call last)",
      "\u001b[0;32m<ipython-input-2-15fd3ec9fb04>\u001b[0m in \u001b[0;36m<module>\u001b[0;34m\u001b[0m\n\u001b[1;32m     28\u001b[0m   \u001b[0mpred_cum_deaths_high\u001b[0m\u001b[0;34m,\u001b[0m \u001b[0mpred_daily_deaths_low\u001b[0m\u001b[0;34m,\u001b[0m \u001b[0mpred_daily_deaths_high\u001b[0m\u001b[0;34m,\u001b[0m\u001b[0;31m \u001b[0m\u001b[0;31m\\\u001b[0m\u001b[0;34m\u001b[0m\u001b[0m\n\u001b[1;32m     29\u001b[0m   S = forecast(u0,0,N,[inferred_data_dates[-1]],cum_deaths,ifr,beta,gamma,\n\u001b[0;32m---> 30\u001b[0;31m              q_current,0,2*offset,truncate,'gamma',compute_interval=[qmin,qmax])\n\u001b[0m\u001b[1;32m     31\u001b[0m \u001b[0;34m\u001b[0m\u001b[0m\n\u001b[1;32m     32\u001b[0m \u001b[0mdaily_deaths\u001b[0m \u001b[0;34m=\u001b[0m \u001b[0mnp\u001b[0m\u001b[0;34m.\u001b[0m\u001b[0minsert\u001b[0m\u001b[0;34m(\u001b[0m\u001b[0mnp\u001b[0m\u001b[0;34m.\u001b[0m\u001b[0mdiff\u001b[0m\u001b[0;34m(\u001b[0m\u001b[0mcum_deaths\u001b[0m\u001b[0;34m)\u001b[0m\u001b[0;34m,\u001b[0m\u001b[0;36m0\u001b[0m\u001b[0;34m,\u001b[0m\u001b[0mcum_deaths\u001b[0m\u001b[0;34m[\u001b[0m\u001b[0;36m0\u001b[0m\u001b[0;34m]\u001b[0m\u001b[0;34m)\u001b[0m\u001b[0;34m\u001b[0m\u001b[0m\n",
      "\u001b[0;31mTypeError\u001b[0m: forecast() got an unexpected keyword argument 'compute_interval'"
     ]
    }
   ],
   "source": [
    "region='Saudi Arabia'\n",
    "truncate = 14\n",
    "N = data.get_population(region)\n",
    "ifr = avg_ifr(region)\n",
    "beta = 0.27\n",
    "gamma = 0.07\n",
    "data_dates, cum_cases, cum_deaths = data.load_time_series(region,smooth)\n",
    "restr_dates = data_dates[:-truncate]; restr_deaths=cum_deaths[:-truncate]\n",
    "data_start = mdates.date2num(data_dates[0])\n",
    "u0, offset, inferred_data_dates = infer_initial_data(restr_deaths,data_start,ifr,gamma,N)\n",
    "\n",
    "q_past, _ = assess_intervention_effectiveness(restr_deaths,N,ifr,restr_dates,slope_penalty=100)\n",
    "\n",
    "S, I, R= SIR(u0, beta=beta, gamma=gamma, N=N, T=offset+1, q=q_past, \n",
    "             intervention_start=0, intervention_length=offset*3)\n",
    "\n",
    "q_current = q_past(round(offset*1.0))\n",
    "q_const, _ = assess_intervention_effectiveness(restr_deaths,N,ifr,restr_dates,fit_type='constant')\n",
    "q_const = q_const(offset)\n",
    "q1 = max(0,min(1,q_current)); q2 = max(0,min(1,q_const))\n",
    "qmin = max(0,min(q1,q2)-0.2)\n",
    "qmax = min(1,max(q1,q2)+0.2)\n",
    "q_current = 0.5*(q_current+q_const)\n",
    "print(q_current,qmin,qmax)\n",
    "\n",
    "u0 = np.array([S[-1],I[-1],R[-1]])\n",
    "prediction_dates, pred_cum_deaths, pred_cum_deaths_low, \\\n",
    "  pred_cum_deaths_high, pred_daily_deaths_low, pred_daily_deaths_high, \\\n",
    "  S = forecast(u0,0,N,[inferred_data_dates[-1]],cum_deaths,ifr,beta,gamma,\n",
    "             q_current,0,2*offset,truncate,'gamma',compute_interval=[qmin,qmax])\n",
    "\n",
    "daily_deaths = np.insert(np.diff(cum_deaths),0,cum_deaths[0])\n",
    "mod_deaths = np.diff(R)*ifr\n",
    "pred_deaths = np.diff(pred_cum_deaths)\n",
    "plt.plot_date(data_dates,daily_deaths,'-',label='Recorded');\n",
    "#plt.plot_date(data_dates[-offset-truncate:-truncate],mod_deaths[1:],label='Modelled')\n",
    "plt.plot_date(data_dates[-truncate:],pred_deaths,'-',label='Predicted')\n",
    "plt.fill_between(data_dates[-truncate:],pred_daily_deaths_low,pred_daily_deaths_high,\n",
    "                 color='lightgrey',label='Predicted range')\n",
    "ax = plt.gca()\n",
    "ax.autoscale(enable=True, axis='both', tight=True)\n",
    "plt.legend()\n",
    "ax.xaxis.set_major_locator(mdates.MonthLocator())\n",
    "ax.xaxis.set_major_formatter(mdates.DateFormatter('%B'))\n",
    "plt.title(region)\n",
    "plt.savefig(region+'_model_test.pdf')"
   ]
  },
  {
   "cell_type": "code",
   "execution_count": 192,
   "metadata": {
    "scrolled": false
   },
   "outputs": [
    {
     "name": "stdout",
     "output_type": "stream",
     "text": [
      "0.7143105764072344 0.48490600577877746 0.9437151470356913\n"
     ]
    },
    {
     "data": {
      "text/plain": [
       "Text(0, 0.5, 'Deaths per day')"
      ]
     },
     "execution_count": 192,
     "metadata": {},
     "output_type": "execute_result"
    },
    {
     "data": {
      "image/png": "[encoded data removed]",
      "text/plain": [
       "<Figure size 720x432 with 1 Axes>"
      ]
     },
     "metadata": {},
     "output_type": "display_data"
    }
   ],
   "source": [
    "region='Saudi Arabia'\n",
    "N = data.get_population(region)\n",
    "ifr = avg_ifr(region)\n",
    "beta = 0.27\n",
    "gamma = 0.07\n",
    "data_dates, cum_cases, cum_deaths = data.load_time_series(region,smooth)\n",
    "restr_dates = data_dates; restr_deaths=cum_deaths\n",
    "data_start = mdates.date2num(data_dates[0])\n",
    "u0, offset, inferred_data_dates = infer_initial_data(restr_deaths,data_start,ifr,gamma,N)\n",
    "\n",
    "q_past, _ = assess_intervention_effectiveness(restr_deaths,N,ifr,restr_dates,slope_penalty=100)\n",
    "\n",
    "S, I, R= SIR(u0, beta=beta, gamma=gamma, N=N, T=offset+1, q=q_past, \n",
    "             intervention_start=0, intervention_length=offset*3)\n",
    "\n",
    "q_current = q_past(round(offset*1.0))\n",
    "q_const, _ = assess_intervention_effectiveness(restr_deaths,N,ifr,restr_dates,fit_type='constant')\n",
    "q_const = q_const(offset)\n",
    "q1 = max(0,min(1,q_current)); q2 = max(0,min(1,q_const))\n",
    "qmin = max(0,min(q1,q2)-0.2)\n",
    "qmax = min(1,max(q1,q2)+0.2)\n",
    "q_current = 0.5*(q_current+q_const)\n",
    "print(q_current,qmin,qmax)\n",
    "\n",
    "u0 = np.array([S[-1],I[-1],R[-1]])\n",
    "prediction_dates, pred_cum_deaths, pred_cum_deaths_low, \\\n",
    "  pred_cum_deaths_high, pred_daily_deaths_low, pred_daily_deaths_high, \\\n",
    "  S = forecast(u0,0,N,[inferred_data_dates[-1]],cum_deaths,ifr,beta,gamma,\n",
    "             0.25,0,180,365,'gamma',compute_interval=[qmin,qmax])\n",
    "\n",
    "daily_deaths = np.insert(np.diff(cum_deaths),0,cum_deaths[0])\n",
    "mod_deaths = np.diff(R)*ifr\n",
    "pred_deaths = np.diff(pred_cum_deaths)\n",
    "plt.plot_date(data_dates,daily_deaths,'-',label='Recorded');\n",
    "#plt.plot_date(data_dates[-offset-truncate:-truncate],mod_deaths[1:],label='Modelled')\n",
    "plt.plot_date(prediction_dates[1:],pred_deaths,'-',label='Predicted')\n",
    "#plt.fill_between(prediction_dates[1:],pred_daily_deaths_low,pred_daily_deaths_high,\n",
    "#                 color='lightgrey',label='Predicted range')\n",
    "ax = plt.gca()\n",
    "ax.autoscale(enable=True, axis='both', tight=True)\n",
    "plt.legend()\n",
    "ax.xaxis.set_major_locator(mdates.YearLocator())\n",
    "ax.xaxis.set_major_formatter(mdates.DateFormatter('%Y'))\n",
    "#plt.yscale('log')\n",
    "plt.title('Mild intervention for 6 months')\n",
    "plt.ylabel('Deaths per day')\n",
    "#plt.savefig(region+'_model_test.pdf')"
   ]
  },
  {
   "cell_type": "code",
   "execution_count": 189,
   "metadata": {},
   "outputs": [
    {
     "data": {
      "text/plain": [
       "0.06744360331903525"
      ]
     },
     "execution_count": 189,
     "metadata": {},
     "output_type": "execute_result"
    }
   ],
   "source": [
    "S[-1]/N"
   ]
  },
  {
   "cell_type": "code",
   "execution_count": 190,
   "metadata": {},
   "outputs": [
    {
     "data": {
      "text/plain": [
       "91429.9884757585"
      ]
     },
     "execution_count": 190,
     "metadata": {},
     "output_type": "execute_result"
    }
   ],
   "source": [
    "pred_cum_deaths[-1]"
   ]
  },
  {
   "cell_type": "code",
   "execution_count": 191,
   "metadata": {},
   "outputs": [
    {
     "data": {
      "text/plain": [
       "98066.903046"
      ]
     },
     "execution_count": 191,
     "metadata": {},
     "output_type": "execute_result"
    }
   ],
   "source": [
    "ifr*N"
   ]
  },
  {
   "cell_type": "code",
   "execution_count": 194,
   "metadata": {},
   "outputs": [
    {
     "data": {
      "text/plain": [
       "0.004694819981072486"
      ]
     },
     "execution_count": 194,
     "metadata": {},
     "output_type": "execute_result"
    }
   ],
   "source": [
    "ifr*1/0.6"
   ]
  },
  {
   "cell_type": "code",
   "execution_count": 170,
   "metadata": {},
   "outputs": [
    {
     "data": {
      "text/plain": [
       "34.813867"
      ]
     },
     "execution_count": 170,
     "metadata": {},
     "output_type": "execute_result"
    }
   ],
   "source": [
    "N/1e6"
   ]
  },
  {
   "cell_type": "code",
   "execution_count": 150,
   "metadata": {},
   "outputs": [
    {
     "data": {
      "text/plain": [
       "0.7138888413029438"
      ]
     },
     "execution_count": 150,
     "metadata": {},
     "output_type": "execute_result"
    }
   ],
   "source": [
    "q_current"
   ]
  },
  {
   "cell_type": "code",
   "execution_count": 14,
   "metadata": {},
   "outputs": [
    {
     "data": {
      "text/plain": [
       "[<matplotlib.lines.Line2D at 0x11f858a90>]"
      ]
     },
     "execution_count": 14,
     "metadata": {},
     "output_type": "execute_result"
    },
    {
     "data": {
      "image/png": "[encoded data removed]",
      "text/plain": [
       "<Figure size 720x432 with 1 Axes>"
      ]
     },
     "metadata": {},
     "output_type": "display_data"
    }
   ],
   "source": [
    "plt.plot(mod_deaths)"
   ]
  },
  {
   "cell_type": "code",
   "execution_count": 32,
   "metadata": {},
   "outputs": [
    {
     "data": {
      "text/plain": [
       "10"
      ]
     },
     "execution_count": 32,
     "metadata": {},
     "output_type": "execute_result"
    }
   ],
   "source": [
    "len(data_dates[-truncate:])"
   ]
  },
  {
   "cell_type": "code",
   "execution_count": 13,
   "metadata": {},
   "outputs": [
    {
     "data": {
      "text/plain": [
       "[<matplotlib.lines.Line2D at 0x1232a57f0>]"
      ]
     },
     "execution_count": 13,
     "metadata": {},
     "output_type": "execute_result"
    },
    {
     "data": {
      "image/png": "[encoded data removed]",
      "text/plain": [
       "<Figure size 720x432 with 1 Axes>"
      ]
     },
     "metadata": {},
     "output_type": "display_data"
    }
   ],
   "source": [
    "pred_dates = \n",
    "plt.plot()\n",
    "plt.plot_date(data_dates,daily_deaths,'-')"
   ]
  },
  {
   "cell_type": "code",
   "execution_count": 8,
   "metadata": {},
   "outputs": [
    {
     "data": {
      "text/plain": [
       "array([    0,     0,     0,     0,     0,     0,     0,     0,     0,\n",
       "           0,     0,     0,     0,     0,     0,     0,     0,     0,\n",
       "           0,     0,     0,     0,     0,     0,     0,     0,     0,\n",
       "           0,     0,     0,     0,     0,     0,     0,     0,     0,\n",
       "           0,     0,     0,     0,     0,     0,     1,     2,     4,\n",
       "           8,    15,    23,    35,    44,    76,   123,   201,   270,\n",
       "         382,   493,   655,   825,  1075,  1389,  1811,  2288,  2913,\n",
       "        3597,  4373,  5151,  5963,  6822,  7649,  8510,  9387, 10298,\n",
       "       11151, 11915, 12629, 13328, 14045, 14747, 15425, 16029, 16616,\n",
       "       17174, 17657, 18156, 18675, 19323, 19768, 20147, 20430, 20843,\n",
       "       21257])"
      ]
     },
     "execution_count": 8,
     "metadata": {},
     "output_type": "execute_result"
    }
   ],
   "source": [
    "cum_deaths"
   ]
  },
  {
   "cell_type": "code",
   "execution_count": 10,
   "metadata": {},
   "outputs": [
    {
     "data": {
      "text/plain": [
       "array([    0,     0,     0,     0,     0,     0,     0,     0,     0,\n",
       "           0,     0,     0,     0,     0,     0,     0,     0,     0,\n",
       "           0,     0,     0,     0,     0,     0,     0,     0,     0,\n",
       "           0,     0,     0,     0,     0,     0,     0,     0,     0,\n",
       "           0,     0,     0,     0,     0,     0,     1,     2,     4,\n",
       "           8,    15,    23,    35,    44,    76,   123,   201,   270,\n",
       "         382,   493,   655,   825,  1075,  1389,  1811,  2288,  2913,\n",
       "        3597,  4373,  5151,  5963,  6822,  7649,  8510,  9387, 10298,\n",
       "       11151, 11915, 12629, 13328, 14045, 14747, 15425, 16029, 16616])"
      ]
     },
     "execution_count": 10,
     "metadata": {},
     "output_type": "execute_result"
    }
   ],
   "source": [
    "restr_deaths"
   ]
  },
  {
   "cell_type": "code",
   "execution_count": 9,
   "metadata": {},
   "outputs": [
    {
     "data": {
      "text/plain": [
       "array([0.00000000e+00, 0.00000000e+00, 0.00000000e+00, 0.00000000e+00,\n",
       "       0.00000000e+00, 0.00000000e+00, 0.00000000e+00, 0.00000000e+00,\n",
       "       0.00000000e+00, 0.00000000e+00, 0.00000000e+00, 0.00000000e+00,\n",
       "       0.00000000e+00, 0.00000000e+00, 0.00000000e+00, 0.00000000e+00,\n",
       "       0.00000000e+00, 0.00000000e+00, 0.00000000e+00, 0.00000000e+00,\n",
       "       0.00000000e+00, 0.00000000e+00, 0.00000000e+00, 0.00000000e+00,\n",
       "       0.00000000e+00, 0.00000000e+00, 0.00000000e+00, 0.00000000e+00,\n",
       "       0.00000000e+00, 0.00000000e+00, 0.00000000e+00, 0.00000000e+00,\n",
       "       0.00000000e+00, 0.00000000e+00, 0.00000000e+00, 0.00000000e+00,\n",
       "       0.00000000e+00, 0.00000000e+00, 0.00000000e+00, 0.00000000e+00,\n",
       "       0.00000000e+00, 0.00000000e+00, 1.00000000e+00, 2.00000000e+00,\n",
       "       4.00000000e+00, 8.00000000e+00, 1.50000000e+01, 2.30000000e+01,\n",
       "       3.50000000e+01, 4.40000000e+01, 7.60000000e+01, 1.23000000e+02,\n",
       "       2.01000000e+02, 2.70000000e+02, 3.82000000e+02, 4.93000000e+02,\n",
       "       6.55000000e+02, 8.25000000e+02, 1.07500000e+03, 1.38900000e+03,\n",
       "       1.81100000e+03, 2.28800000e+03, 2.91300000e+03, 3.59700000e+03,\n",
       "       4.37300000e+03, 5.15100000e+03, 5.96300000e+03, 6.82200000e+03,\n",
       "       7.64900000e+03, 8.51000000e+03, 9.38700000e+03, 1.02980000e+04,\n",
       "       1.11510000e+04, 1.19150000e+04, 1.26290000e+04, 1.33280000e+04,\n",
       "       1.40450000e+04, 1.47470000e+04, 1.54250000e+04, 1.60290000e+04,\n",
       "       1.66160000e+04, 6.41084704e+03, 6.98014726e+03, 7.58977250e+03,\n",
       "       8.23714503e+03, 8.91949452e+03, 9.63400361e+03, 1.03764248e+04,\n",
       "       1.11417110e+04, 1.19248134e+04, 1.27204627e+04, 1.35229620e+04,\n",
       "       1.43265931e+04, 1.51256376e+04, 1.58933738e+04, 1.66625907e+04,\n",
       "       1.74106344e+04, 1.81330539e+04, 1.88250707e+04, 1.94842072e+04,\n",
       "       2.01081905e+04, 2.06947453e+04, 2.12425203e+04])"
      ]
     },
     "execution_count": 9,
     "metadata": {},
     "output_type": "execute_result"
    }
   ],
   "source": [
    "np.hstack((restr_deaths,R*ifr))"
   ]
  },
  {
   "cell_type": "code",
   "execution_count": null,
   "metadata": {},
   "outputs": [],
   "source": []
  }
 ],
 "metadata": {
  "kernelspec": {
   "display_name": "Python 3",
   "language": "python",
   "name": "python3"
  },
  "language_info": {
   "codemirror_mode": {
    "name": "ipython",
    "version": 3
   },
   "file_extension": ".py",
   "mimetype": "text/x-python",
   "name": "python",
   "nbconvert_exporter": "python",
   "pygments_lexer": "ipython3",
   "version": "3.6.5"
  },
  "toc": {
   "base_numbering": 1,
   "nav_menu": {},
   "number_sections": true,
   "sideBar": true,
   "skip_h1_title": false,
   "title_cell": "Table of Contents",
   "title_sidebar": "Contents",
   "toc_cell": false,
   "toc_position": {},
   "toc_section_display": true,
   "toc_window_display": false
  }
 },
 "nbformat": 4,
 "nbformat_minor": 2
}
