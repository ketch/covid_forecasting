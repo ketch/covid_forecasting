{
 "cells": [
  {
   "cell_type": "code",
   "execution_count": null,
   "metadata": {},
   "outputs": [],
   "source": [
    "%matplotlib inline\n",
    "import pandas as pd\n",
    "import data\n",
    "import numpy as np\n",
    "from covid_forecast import *"
   ]
  },
  {
   "cell_type": "code",
   "execution_count": null,
   "metadata": {},
   "outputs": [],
   "source": [
    "xl_file = pd.ExcelFile(\"/Users/ketch/Downloads/WPP2019_POP_F07_1_POPULATION_BY_AGE_BOTH_SEXES.xlsx\")"
   ]
  },
  {
   "cell_type": "code",
   "execution_count": null,
   "metadata": {},
   "outputs": [],
   "source": [
    "xl_file.sheet_names"
   ]
  },
  {
   "cell_type": "code",
   "execution_count": null,
   "metadata": {},
   "outputs": [],
   "source": [
    "df = xl_file.parse('ESTIMATES')"
   ]
  },
  {
   "cell_type": "code",
   "execution_count": null,
   "metadata": {},
   "outputs": [],
   "source": [
    "df.head()"
   ]
  },
  {
   "cell_type": "code",
   "execution_count": null,
   "metadata": {},
   "outputs": [],
   "source": [
    "df.columns[2]"
   ]
  },
  {
   "cell_type": "code",
   "execution_count": null,
   "metadata": {},
   "outputs": [],
   "source": [
    "df=df.rename(columns={'Region, subregion, country or area *': 'Region',\n",
    "                      'Reference date (as of 1 July)': 'Year'})"
   ]
  },
  {
   "cell_type": "code",
   "execution_count": null,
   "metadata": {},
   "outputs": [],
   "source": [
    "df.head()"
   ]
  },
  {
   "cell_type": "code",
   "execution_count": null,
   "metadata": {
    "scrolled": false
   },
   "outputs": [],
   "source": [
    "for region in data.population.keys():\n",
    "    rows = df.loc[df['Region'] == region]\n",
    "    rows = rows.loc[rows['Year']==2020]\n",
    "    if len(rows) != 1: continue\n",
    "    pops = rows.to_numpy()[:,8:]\n",
    "    popstr = \"np.array([\"+\",\".join([str(p*1000) for p in pops[0]])+\"])\"\n",
    "    print(\"'\"+region+\"':\", popstr, \",\")"
   ]
  },
  {
   "cell_type": "code",
   "execution_count": null,
   "metadata": {},
   "outputs": [],
   "source": [
    "for region in ['United States of America', 'Bolivia (Plurinational State of)',\n",
    "               'Iran (Islamic Republic of)',\"Lao People's Democratic Republic\",\n",
    "               \"Dem. People's Republic of Korea\",\"Russian Federation\",\n",
    "               \"Syrian Arab Republic\",\"Venezuela (Bolivarian Republic of)\",\n",
    "               \"Viet Nam\"]:\n",
    "    rows = df.loc[df['Region'] == region]\n",
    "    rows = rows.loc[rows['Year']==2020]\n",
    "    if len(rows) != 1: continue\n",
    "    pops = rows.to_numpy()[:,8:]\n",
    "    popstr = \"np.array([\"+\",\".join([str(p*1000) for p in pops[0]])+\"])\"\n",
    "    print('\"'+region+'\":', popstr, \",\")"
   ]
  },
  {
   "cell_type": "code",
   "execution_count": null,
   "metadata": {
    "scrolled": false
   },
   "outputs": [],
   "source": [
    "for region in data.age_distribution.keys():\n",
    "    popsum = np.sum(data.age_distribution[region])*1000\n",
    "    N = data.get_population(region)\n",
    "    print(region, N-popsum)"
   ]
  },
  {
   "cell_type": "code",
   "execution_count": null,
   "metadata": {},
   "outputs": [],
   "source": [
    "region='Spain'\n",
    "age_data = data.age_distribution\n",
    "pa = age_data[region]\n",
    "pop_decades = np.zeros(9)\n",
    "for decade in range(8):\n",
    "    pop_decades[decade] = pa[decade*2]+pa[decade*2+1]\n",
    "pop_decades[8] = sum(pa[16:])\n",
    "N = data.get_population(region)\n",
    "pop_decades/N"
   ]
  },
  {
   "cell_type": "code",
   "execution_count": null,
   "metadata": {},
   "outputs": [],
   "source": [
    "sum(pop_decades/N)"
   ]
  },
  {
   "cell_type": "code",
   "execution_count": null,
   "metadata": {
    "scrolled": false
   },
   "outputs": [],
   "source": [
    "for region in data.population.keys():\n",
    "    print('{:>25}: {:7.2f}'.format(region, avg_ifr(region)*100))"
   ]
  },
  {
   "cell_type": "code",
   "execution_count": null,
   "metadata": {},
   "outputs": [],
   "source": [
    "for region in ['Republic of Korea']:\n",
    "    rows = df.loc[df['Region'] == region]\n",
    "    rows = rows.loc[rows['Year']==2020]\n",
    "    if len(rows) != 1: continue\n",
    "    pops = rows.to_numpy()[:,8:]\n",
    "    popstr = \"np.array([\"+\",\".join([str(p*1000) for p in pops[0]])+\"])\"\n",
    "    print('\"'+region+'\":', popstr, \",\")"
   ]
  },
  {
   "cell_type": "code",
   "execution_count": null,
   "metadata": {
    "scrolled": false
   },
   "outputs": [],
   "source": [
    "set(list(df['Region']))"
   ]
  },
  {
   "cell_type": "code",
   "execution_count": null,
   "metadata": {},
   "outputs": [],
   "source": []
  }
 ],
 "metadata": {
  "kernelspec": {
   "display_name": "Python 3",
   "language": "python",
   "name": "python3"
  },
  "language_info": {
   "codemirror_mode": {
    "name": "ipython",
    "version": 3
   },
   "file_extension": ".py",
   "mimetype": "text/x-python",
   "name": "python",
   "nbconvert_exporter": "python",
   "pygments_lexer": "ipython3",
   "version": "3.6.5"
  },
  "toc": {
   "base_numbering": 1,
   "nav_menu": {},
   "number_sections": true,
   "sideBar": true,
   "skip_h1_title": false,
   "title_cell": "Table of Contents",
   "title_sidebar": "Contents",
   "toc_cell": false,
   "toc_position": {},
   "toc_section_display": true,
   "toc_window_display": false
  }
 },
 "nbformat": 4,
 "nbformat_minor": 2
}
