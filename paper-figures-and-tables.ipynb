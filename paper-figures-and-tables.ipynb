{
 "cells": [
  {
   "cell_type": "code",
   "execution_count": null,
   "metadata": {},
   "outputs": [],
   "source": [
    "%matplotlib inline\n",
    "import numpy as np\n",
    "import matplotlib.pyplot as plt\n",
    "import matplotlib\n",
    "from ipywidgets import interact, widgets\n",
    "import data\n",
    "import matplotlib.dates as mdates\n",
    "import warnings\n",
    "import csv\n",
    "import deconvolution\n",
    "import datetime\n",
    "from covid_forecast import *\n",
    "warnings.filterwarnings('ignore')\n",
    "plt.style.use('seaborn-poster')\n",
    "matplotlib.rcParams['figure.figsize'] = (10., 6.)\n",
    "import matplotlib.ticker as mtick\n",
    "fmt = '%.0f%%' # Format you want the ticks, e.g. '40%'\n",
    "yticks = mtick.FormatStrFormatter(fmt)\n",
    "palette = plt.get_cmap('tab10')"
   ]
  },
  {
   "cell_type": "markdown",
   "metadata": {},
   "source": [
    "# No-intervention scenarios"
   ]
  },
  {
   "cell_type": "code",
   "execution_count": null,
   "metadata": {},
   "outputs": [],
   "source": [
    "def no_intervention_range(region,start_date):\n",
    "    N = data.get_population(region)\n",
    "    ifr_val='mean'\n",
    "    ifr = avg_ifr(region,ifr_val)\n",
    "    sigma0s = [2.0,4.0,3.0]\n",
    "    mean = 14\n",
    "    undercount_factors = [1.0,3.0,1.0]\n",
    "    data_dates, cum_cases, cum_deaths = data.load_time_series(region,smooth)\n",
    "    data_start = mdates.date2num(data_dates[0])\n",
    "    nid_low = None\n",
    "    nid_high = None\n",
    "    pdf = deconvolution.generate_pdf(8.,mean/8.)\n",
    "    gamma = np.sum(pdf)/np.sum(pdf*np.arange(len(pdf)))\n",
    "    \n",
    "    u0, offset, inferred_data_dates = infer_initial_data(cum_deaths,data_start,ifr,gamma,N,perturb=True)\n",
    "\n",
    "    for sigma0 in sigma0s:\n",
    "\n",
    "        beta = sigma0*gamma\n",
    "        for uf in undercount_factors:\n",
    "\n",
    "            no_interv_dates, no_interv_cum_deaths, no_interv_new_infections = \\\n",
    "                no_intervention_scenario(region,pdf,beta,gamma,uf,start_date,\n",
    "                                         forecast_length=0,ifr_val=ifr_val)\n",
    "\n",
    "            if nid_low is None:\n",
    "                nid_low = no_interv_cum_deaths.copy()/uf\n",
    "                nid_high = no_interv_cum_deaths.copy()/uf\n",
    "            else:\n",
    "                nid_low = np.minimum(no_interv_cum_deaths/uf,nid_low)\n",
    "                nid_high = np.maximum(no_interv_cum_deaths/uf,nid_high)\n",
    "                    \n",
    "    return no_interv_dates, no_interv_cum_deaths, nid_low, nid_high"
   ]
  },
  {
   "cell_type": "code",
   "execution_count": null,
   "metadata": {},
   "outputs": [],
   "source": [
    "region='Spain'\n",
    "start = '03-12-2020'\n",
    "skip = 30\n",
    "data_dates, cum_cases, cum_deaths = data.load_time_series(region,smooth)\n",
    "no_interv_dates, no_interv_cum_deaths, nid_low, nid_high = no_intervention_range(region,start)\n",
    "plt.plot_date(data_dates[skip:],cum_deaths[skip:],'-k',label='Recorded')\n",
    "plt.plot_date(no_interv_dates,no_interv_cum_deaths,'--',label='No-intervention estimated')\n",
    "plt.fill_between(no_interv_dates,nid_low,nid_high,alpha=0.5)\n",
    "ax = plt.gca()\n",
    "ax.set_yscale('log');\n",
    "ax.xaxis.set_major_locator(mdates.MonthLocator())\n",
    "ax.xaxis.set_major_formatter(mdates.DateFormatter('%b'))\n",
    "plt.ylabel('Cumulative deaths')\n",
    "plt.title(region)\n",
    "plt.legend()\n",
    "plt.savefig('no_intervention_'+region+'.pdf')"
   ]
  },
  {
   "cell_type": "code",
   "execution_count": null,
   "metadata": {},
   "outputs": [],
   "source": [
    "region='Italy'\n",
    "start = '03-07-2020'\n",
    "skip = 30\n",
    "data_dates, cum_cases, cum_deaths = data.load_time_series(region,smooth)\n",
    "no_interv_dates, no_interv_cum_deaths, nid_low, nid_high = no_intervention_range(region,start)\n",
    "plt.plot_date(data_dates[skip:],cum_deaths[skip:],'-k',label='Recorded')\n",
    "plt.plot_date(no_interv_dates,no_interv_cum_deaths,'--',label='No-intervention estimated')\n",
    "plt.fill_between(no_interv_dates,nid_low,nid_high,alpha=0.5)\n",
    "ax = plt.gca()\n",
    "ax.set_yscale('log');\n",
    "ax.xaxis.set_major_locator(mdates.MonthLocator())\n",
    "ax.xaxis.set_major_formatter(mdates.DateFormatter('%b'))\n",
    "plt.ylabel('Cumulative deaths')\n",
    "plt.title(region)\n",
    "plt.legend()\n",
    "plt.savefig('no_intervention_'+region+'.pdf')"
   ]
  },
  {
   "cell_type": "code",
   "execution_count": null,
   "metadata": {},
   "outputs": [],
   "source": [
    "region='Germany'\n",
    "start = '03-14-2020'\n",
    "skip = 30\n",
    "data_dates, cum_cases, cum_deaths = data.load_time_series(region,smooth)\n",
    "no_interv_dates, no_interv_cum_deaths, nid_low, nid_high = no_intervention_range(region,start)\n",
    "plt.plot_date(data_dates[skip:],cum_deaths[skip:],'-k',label='Recorded')\n",
    "plt.plot_date(no_interv_dates,no_interv_cum_deaths,'--',label='No-intervention estimated')\n",
    "plt.fill_between(no_interv_dates,nid_low,nid_high,alpha=0.5)\n",
    "ax = plt.gca()\n",
    "ax.set_yscale('log');\n",
    "ax.xaxis.set_major_locator(mdates.MonthLocator())\n",
    "ax.xaxis.set_major_formatter(mdates.DateFormatter('%b'))\n",
    "plt.ylabel('Cumulative deaths')\n",
    "plt.title(region)\n",
    "plt.legend()\n",
    "plt.savefig('no_intervention_'+region+'.pdf')"
   ]
  },
  {
   "cell_type": "code",
   "execution_count": null,
   "metadata": {},
   "outputs": [],
   "source": [
    "region='Austria'\n",
    "start = '03-16-2020'\n",
    "skip = 30\n",
    "data_dates, cum_cases, cum_deaths = data.load_time_series(region,smooth)\n",
    "no_interv_dates, no_interv_cum_deaths, nid_low, nid_high = no_intervention_range(region,start)\n",
    "plt.plot_date(data_dates[skip:],cum_deaths[skip:],'-k',label='Recorded')\n",
    "plt.plot_date(no_interv_dates,no_interv_cum_deaths,'--',label='No-intervention estimated')\n",
    "plt.fill_between(no_interv_dates,nid_low,nid_high,alpha=0.5)\n",
    "ax = plt.gca()\n",
    "ax.set_yscale('log');\n",
    "ax.xaxis.set_major_locator(mdates.MonthLocator())\n",
    "ax.xaxis.set_major_formatter(mdates.DateFormatter('%b'))\n",
    "plt.ylabel('Cumulative deaths')\n",
    "plt.title(region)\n",
    "plt.legend()\n",
    "plt.savefig('no_intervention_'+region+'.pdf')"
   ]
  },
  {
   "cell_type": "code",
   "execution_count": null,
   "metadata": {},
   "outputs": [],
   "source": [
    "region='Norway'\n",
    "start = '03-16-2020'\n",
    "skip = 30\n",
    "data_dates, cum_cases, cum_deaths = data.load_time_series(region,smooth)\n",
    "no_interv_dates, no_interv_cum_deaths, nid_low, nid_high = no_intervention_range(region,start)\n",
    "plt.plot_date(data_dates[skip:],cum_deaths[skip:],'-k',label='Recorded')\n",
    "plt.plot_date(no_interv_dates,no_interv_cum_deaths,'--',label='No-intervention estimated')\n",
    "plt.fill_between(no_interv_dates,nid_low,nid_high,alpha=0.5)\n",
    "ax = plt.gca()\n",
    "ax.set_yscale('log');\n",
    "ax.xaxis.set_major_locator(mdates.MonthLocator())\n",
    "ax.xaxis.set_major_formatter(mdates.DateFormatter('%b'))\n",
    "plt.ylabel('Cumulative deaths')\n",
    "plt.title(region)\n",
    "plt.legend()\n",
    "plt.savefig('no_intervention_'+region+'.pdf')"
   ]
  },
  {
   "cell_type": "code",
   "execution_count": null,
   "metadata": {},
   "outputs": [],
   "source": [
    "region='Belgium'\n",
    "start = '03-20-2020'\n",
    "skip = 30\n",
    "data_dates, cum_cases, cum_deaths = data.load_time_series(region,smooth)\n",
    "no_interv_dates, no_interv_cum_deaths, nid_low, nid_high = no_intervention_range(region,start)\n",
    "plt.plot_date(data_dates[skip:],cum_deaths[skip:],'-k',label='Recorded')\n",
    "plt.plot_date(no_interv_dates,no_interv_cum_deaths,'--',label='No-intervention estimated')\n",
    "plt.fill_between(no_interv_dates,nid_low,nid_high,alpha=0.5)\n",
    "ax = plt.gca()\n",
    "ax.set_yscale('log');\n",
    "ax.xaxis.set_major_locator(mdates.MonthLocator())\n",
    "ax.xaxis.set_major_formatter(mdates.DateFormatter('%b'))\n",
    "plt.ylabel('Cumulative deaths')\n",
    "plt.title(region)\n",
    "plt.legend()\n",
    "plt.savefig('no_intervention_'+region+'.pdf')"
   ]
  },
  {
   "cell_type": "code",
   "execution_count": null,
   "metadata": {},
   "outputs": [],
   "source": [
    "region='United Kingdom'\n",
    "start = '03-16-2020'\n",
    "skip = 30\n",
    "data_dates, cum_cases, cum_deaths = data.load_time_series(region,smooth)\n",
    "no_interv_dates, no_interv_cum_deaths, nid_low, nid_high = no_intervention_range(region,start)\n",
    "plt.plot_date(data_dates[skip:],cum_deaths[skip:],'-k',label='Recorded')\n",
    "plt.plot_date(no_interv_dates,no_interv_cum_deaths,'--',label='No-intervention estimated')\n",
    "plt.fill_between(no_interv_dates,nid_low,nid_high,alpha=0.5)\n",
    "ax = plt.gca()\n",
    "ax.set_yscale('log');\n",
    "ax.xaxis.set_major_locator(mdates.MonthLocator())\n",
    "ax.xaxis.set_major_formatter(mdates.DateFormatter('%b'))\n",
    "plt.ylabel('Cumulative deaths')\n",
    "plt.title(region)\n",
    "plt.legend()\n",
    "plt.savefig('no_intervention_'+region+'.pdf')"
   ]
  },
  {
   "cell_type": "markdown",
   "metadata": {},
   "source": [
    "## Table of comparisons"
   ]
  },
  {
   "cell_type": "code",
   "execution_count": null,
   "metadata": {},
   "outputs": [],
   "source": [
    "no_interv_dates[-37]  # Should be March 31st"
   ]
  },
  {
   "cell_type": "code",
   "execution_count": null,
   "metadata": {},
   "outputs": [],
   "source": [
    "# Decided not to show March 31st comparison.\n",
    "# Due to time lag between intervention and death,\n",
    "# it is unlikely that intervention had saved a significant\n",
    "# number of lives by March 31st in most of these countries.\n",
    "for region in ['Austria','Belgium','Denmark','France','Germany','Italy','Norway','Spain',\n",
    "               'Switzerland','United Kingdom']:\n",
    "    start = data.lockdown_start[region][0]\n",
    "    if region == 'Italy': start = '03-07-2020'\n",
    "    elif region == 'Belgium': start = '03-20-2020'\n",
    "    data_dates, cum_cases, cum_deaths = data.load_time_series(region,smooth)\n",
    "    no_interv_dates, no_interv_cum_deaths, nid_low, nid_high = no_intervention_range(region,start)\n",
    "    saved = no_interv_cum_deaths[-1]-cum_deaths[-1]\n",
    "    saved_low = max(nid_low[-1]-cum_deaths[-1],0)\n",
    "    saved_high = nid_high[-1]-cum_deaths[-1]\n",
    "    #march_31_ind = -30 # This MUST be adjusted\n",
    "    #m31_saved = no_interv_cum_deaths[march_31_ind]-cum_deaths[march_31_ind]\n",
    "    #m31_saved_low = max(nid_low[march_31_ind]-cum_deaths[march_31_ind],0)\n",
    "    #m31_saved_high = nid_high[march_31_ind]-cum_deaths[march_31_ind]\n",
    "    print(r'{:>15} & {} & {:.0f} ({:.0f}-{:.0f}) \\\\'.format(region, start, \n",
    "                                                        saved, saved_low, saved_high))"
   ]
  },
  {
   "cell_type": "markdown",
   "metadata": {
    "heading_collapsed": true
   },
   "source": [
    "# Inferred real infections"
   ]
  },
  {
   "cell_type": "code",
   "execution_count": null,
   "metadata": {
    "hidden": true
   },
   "outputs": [],
   "source": [
    "m9_ind = -55\n",
    "data_dates[m9_ind]  # March 9th"
   ]
  },
  {
   "cell_type": "code",
   "execution_count": null,
   "metadata": {
    "hidden": true
   },
   "outputs": [],
   "source": [
    "gamma = 1./14\n",
    "beta = 3.0*gamma\n",
    "for region in ['China','Italy', 'Iran','Korea, South','France','Spain','Germany','US']:\n",
    "    ifr = avg_ifr(region,'mean')\n",
    "    N = data.get_population(region)\n",
    "    data_dates, cum_cases, cum_deaths = data.load_time_series(region,smooth)\n",
    "    data_start = mdates.date2num(data_dates[0])  # First day for which we have data\n",
    "    u0, offset, inf_dates, I, R, delta_I = \\\n",
    "                infer_initial_data(cum_deaths,data_start,ifr,gamma,N,\n",
    "                                   method='deconvolution',extended_output=1,perturb=True)\n",
    "    reported = cum_cases[m9_ind]\n",
    "    real = I[m9_ind]+R[m9_ind]\n",
    "    print(r'{:>15} & {:.0f} & {:.0f} & {:.0f} \\\\'.format(region, reported, real, real-reported))"
   ]
  },
  {
   "cell_type": "code",
   "execution_count": null,
   "metadata": {
    "hidden": true
   },
   "outputs": [],
   "source": [
    "smooth=True\n",
    "region='Spain'\n",
    "gamma = 1./14\n",
    "beta = 3.0*gamma\n",
    "ifr = avg_ifr(region,'mean')\n",
    "N = data.get_population(region)\n",
    "data_dates, cum_cases, cum_deaths = data.load_time_series(region,smooth=True)\n",
    "data_start = mdates.date2num(data_dates[0])  # First day for which we have data\n",
    "inf_dates, delta_I = get_past_infections(region,beta,gamma,perturb=True)\n",
    "\n",
    "#u0, offset, inf_dates, I, R, delta_I = \\\n",
    "#            infer_initial_data(cum_deaths,data_start,ifr,gamma,N,\n",
    "#                               method='deconvolution',extended_output=1,slow=True)"
   ]
  },
  {
   "cell_type": "code",
   "execution_count": null,
   "metadata": {
    "hidden": true
   },
   "outputs": [],
   "source": [
    "offset=1\n",
    "undercount_spain = delta_I[1:-offset]/np.diff(cum_cases)[:-offset]\n",
    "start = 20\n",
    "plt.plot_date(data_dates[start+1:-offset],np.diff(cum_cases)[start:-offset],'-')\n",
    "plt.plot_date(inf_dates[start+1:-offset],delta_I[start+1:-offset],'-')\n",
    "ax = plt.gca()\n",
    "ax.set_yscale('log');\n",
    "ax.xaxis.set_major_locator(mdates.MonthLocator())\n",
    "ax.xaxis.set_major_formatter(mdates.DateFormatter('%b'))\n",
    "plt.legend(['Confirmed cases','Inferred infections'])\n",
    "plt.savefig('Infections_'+region+'.pdf')"
   ]
  },
  {
   "cell_type": "code",
   "execution_count": null,
   "metadata": {
    "hidden": true
   },
   "outputs": [],
   "source": [
    "cum_cases"
   ]
  },
  {
   "cell_type": "code",
   "execution_count": null,
   "metadata": {
    "hidden": true
   },
   "outputs": [],
   "source": [
    "region='Italy'\n",
    "gamma = 1./14\n",
    "beta = 3.0*gamma\n",
    "ifr = avg_ifr(region,'mean')\n",
    "N = data.get_population(region)\n",
    "data_dates, cum_cases, cum_deaths = data.load_time_series(region,smooth)\n",
    "data_start = mdates.date2num(data_dates[0])  # First day for which we have data\n",
    "inf_dates, delta_I = get_past_infections(region,beta,gamma,perturb=True)\n",
    "\n",
    "#u0, offset, inf_dates, I, R, delta_I = \\\n",
    "#            infer_initial_data(cum_deaths,data_start,ifr,gamma,N,\n",
    "#                               method='deconvolution',extended_output=1,slow=True)"
   ]
  },
  {
   "cell_type": "code",
   "execution_count": null,
   "metadata": {
    "hidden": true
   },
   "outputs": [],
   "source": [
    "undercount_italy = delta_I[1:-offset]/np.diff(cum_cases)[:-offset]\n",
    "start = 8\n",
    "plt.plot_date(data_dates[start+1:-offset],np.diff(cum_cases)[start:-offset],'-')\n",
    "plt.plot_date(inf_dates[start+1:-offset],delta_I[start+1:-offset],'-')\n",
    "ax = plt.gca()\n",
    "ax.set_yscale('log');\n",
    "ax.xaxis.set_major_locator(mdates.MonthLocator())\n",
    "ax.xaxis.set_major_formatter(mdates.DateFormatter('%b'))\n",
    "plt.legend(['Confirmed cases','Inferred infections'])\n",
    "plt.savefig('Infections_'+region+'.pdf')"
   ]
  },
  {
   "cell_type": "code",
   "execution_count": null,
   "metadata": {
    "hidden": true
   },
   "outputs": [],
   "source": [
    "region='US'\n",
    "gamma = 1./14\n",
    "beta = 3.0*gamma\n",
    "ifr = avg_ifr(region,'mean')\n",
    "N = data.get_population(region)\n",
    "data_dates, cum_cases, cum_deaths = data.load_time_series(region,smooth)\n",
    "data_start = mdates.date2num(data_dates[0])  # First day for which we have data\n",
    "inf_dates, delta_I = get_past_infections(region,beta,gamma,perturb=True)\n"
   ]
  },
  {
   "cell_type": "code",
   "execution_count": null,
   "metadata": {
    "hidden": true
   },
   "outputs": [],
   "source": [
    "undercount_us = delta_I[1:-offset]/np.diff(cum_cases)[:-offset]\n",
    "start = 15\n",
    "plt.plot_date(data_dates[start+1:-offset],np.diff(cum_cases)[start:-offset],'-')\n",
    "plt.plot_date(inf_dates[start+1:-offset],delta_I[start+1:-offset],'-')\n",
    "ax = plt.gca()\n",
    "ax.set_yscale('log');\n",
    "ax.xaxis.set_major_locator(mdates.MonthLocator())\n",
    "ax.xaxis.set_major_formatter(mdates.DateFormatter('%b'))\n",
    "plt.legend(['Confirmed cases','Inferred infections'])\n",
    "plt.savefig('Infections_'+region+'.pdf')"
   ]
  },
  {
   "cell_type": "code",
   "execution_count": null,
   "metadata": {
    "hidden": true
   },
   "outputs": [],
   "source": [
    "region='Korea, South'\n",
    "gamma = 1./14\n",
    "beta = 3.0*gamma\n",
    "ifr = avg_ifr(region,'mean')\n",
    "N = data.get_population(region)\n",
    "data_dates, cum_cases, cum_deaths = data.load_time_series(region,smooth=False)\n",
    "data_start = mdates.date2num(data_dates[0])  # First day for which we have data\n",
    "inf_dates, delta_I = get_past_infections(region,beta,gamma,perturb=True)"
   ]
  },
  {
   "cell_type": "code",
   "execution_count": null,
   "metadata": {
    "hidden": true
   },
   "outputs": [],
   "source": [
    "offset=20\n",
    "undercount_korea = delta_I[1:-offset]/np.diff(cum_cases)[:-offset]\n",
    "start = 15\n",
    "plt.plot_date(data_dates[start+1:-offset],np.diff(cum_cases)[start:-offset],'-')\n",
    "plt.plot_date(inf_dates[start+1:-offset],delta_I[start+1:-offset],'-')\n",
    "ax = plt.gca()\n",
    "ax.set_yscale('log');\n",
    "ax.xaxis.set_major_locator(mdates.MonthLocator())\n",
    "ax.xaxis.set_major_formatter(mdates.DateFormatter('%b'))\n",
    "plt.legend(['Confirmed cases','Inferred infections'])\n",
    "plt.savefig('Infections_'+region+'.pdf')"
   ]
  },
  {
   "cell_type": "code",
   "execution_count": null,
   "metadata": {
    "hidden": true
   },
   "outputs": [],
   "source": [
    "region='Saudi Arabia'\n",
    "gamma = 1./14\n",
    "beta = 3.0*gamma\n",
    "ifr = avg_ifr(region,'mean')\n",
    "N = data.get_population(region)\n",
    "data_dates, cum_cases, cum_deaths = data.load_time_series(region,smooth)\n",
    "data_start = mdates.date2num(data_dates[0])  # First day for which we have data\n",
    "inf_dates, delta_I = get_past_infections(region,beta,gamma,perturb=True)\n",
    "offset=1"
   ]
  },
  {
   "cell_type": "code",
   "execution_count": null,
   "metadata": {
    "hidden": true
   },
   "outputs": [],
   "source": [
    "undercount_saudi = delta_I[1:-offset]/np.diff(cum_cases)[:-offset]\n",
    "start = 42\n",
    "plt.plot_date(data_dates[start+1:-offset],np.diff(cum_cases)[start:-offset],'-')\n",
    "plt.plot_date(inf_dates[start+1:-offset],delta_I[start+1:-offset],'-')\n",
    "ax = plt.gca()\n",
    "ax.set_yscale('log');\n",
    "ax.xaxis.set_major_locator(mdates.MonthLocator())\n",
    "ax.xaxis.set_major_formatter(mdates.DateFormatter('%b'))\n",
    "plt.legend(['Confirmed cases','Inferred infections'])\n",
    "plt.savefig('Infections_'+region+'.pdf')"
   ]
  },
  {
   "cell_type": "code",
   "execution_count": null,
   "metadata": {
    "hidden": true
   },
   "outputs": [],
   "source": [
    "plt.plot_date(data_dates[2:],undercount_spain,'-',label='Spain')\n",
    "plt.plot_date(data_dates[2:],undercount_italy,'-',label='Italy')\n",
    "start=30\n",
    "plt.plot_date(data_dates[start+1:-20],undercount_korea[start:],'-',label='South Korea')\n",
    "plt.plot_date(data_dates[start+2:],undercount_us[start:],'-',label='USA')\n",
    "start=45\n",
    "plt.plot_date(data_dates[start+2:],undercount_saudi[start:],'-',label='Saudi Arabia')\n",
    "ax = plt.gca()\n",
    "ax.set_yscale('log');\n",
    "ax.xaxis.set_major_locator(mdates.MonthLocator())\n",
    "ax.xaxis.set_major_formatter(mdates.DateFormatter('%b'))\n",
    "ax.autoscale(enable=True, axis='x', tight=True)\n",
    "plt.plot_date(plt.xlim(),[1,1],'--k',alpha=0.5)\n",
    "plt.legend()\n",
    "plt.ylim(0.9,500)\n",
    "plt.savefig('underreporting.pdf')"
   ]
  },
  {
   "cell_type": "markdown",
   "metadata": {},
   "source": [
    "# Estimated current immunity"
   ]
  },
  {
   "cell_type": "code",
   "execution_count": null,
   "metadata": {},
   "outputs": [],
   "source": [
    "immunity = {}\n",
    "immunity_high = {}\n",
    "immunity_low = {}\n",
    "\n",
    "# Values adjusted based on excess mortality ratio\n",
    "immunity_adj = {}\n",
    "immunity_adj_high = {}\n",
    "immunity_adj_low = {}\n",
    "\n",
    "gamma = 1./14\n",
    "beta = 3.0*gamma\n",
    "\n",
    "for region in data.population.keys():\n",
    "        if region == 'Georgia': continue\n",
    "        N = data.get_population(region)\n",
    "        data_dates, cum_cases, cum_deaths = data.load_time_series(region,smooth)\n",
    "        if cum_deaths[-1]<50: continue\n",
    "\n",
    "        inf_dates, delta_I = get_past_infections(region,beta,gamma,which_ifr='mean')\n",
    "        immunity[region] = np.sum(delta_I)/N\n",
    "        print(region,immunity[region])\n",
    "\n",
    "        inf_dates, delta_I = get_past_infections(region,beta,gamma,which_ifr='low')\n",
    "        immunity_high[region] = np.sum(delta_I)/N\n",
    "        \n",
    "        inf_dates, delta_I = get_past_infections(region,beta,gamma,which_ifr='high')\n",
    "        immunity_low[region] = np.sum(delta_I)/N"
   ]
  },
  {
   "cell_type": "code",
   "execution_count": null,
   "metadata": {},
   "outputs": [],
   "source": [
    "for region in data.emr:\n",
    "        if region == 'Georgia': continue\n",
    "        N = data.get_population(region)\n",
    "        emr = data.emr[region]\n",
    "        data_dates, cum_cases, cum_deaths = data.load_time_series(region,smooth)\n",
    "        if cum_deaths[-1]<50: continue\n",
    "\n",
    "        inf_dates, delta_I = get_past_infections(region,beta,gamma,which_ifr='mean',emr=emr)\n",
    "        immunity_adj[region] = np.sum(delta_I)/N\n",
    "        print(region,immunity_adj[region])\n",
    "\n",
    "        inf_dates, delta_I = get_past_infections(region,beta,gamma,which_ifr='low',emr=emr)\n",
    "        immunity_adj_high[region] = np.sum(delta_I)/N\n",
    "        \n",
    "        inf_dates, delta_I = get_past_infections(region,beta,gamma,which_ifr='high',emr=emr)\n",
    "        immunity_adj_low[region] = np.sum(delta_I)/N"
   ]
  },
  {
   "cell_type": "code",
   "execution_count": null,
   "metadata": {},
   "outputs": [],
   "source": [
    "top = sorted(immunity, key=immunity.get, reverse=True)[:10]+['Ecuador']\n",
    "\n",
    "matplotlib.rcParams.update({'errorbar.capsize': 1})\n",
    "plt.rcParams.update({'lines.markeredgewidth': 0})\n",
    "\n",
    "imm = np.array([immunity[region] for region in top])\n",
    "imlow = np.array([immunity_low[region] for region in top])\n",
    "imhigh = np.array([immunity_high[region] for region in top])\n",
    "\n",
    "fig, ax = plt.subplots()\n",
    "y_pos = np.arange(len(top))[::-1]\n",
    "height = 0.3*np.ones_like(y_pos)\n",
    "ax.set_yticks(y_pos)\n",
    "ax.set_yticklabels(top)\n",
    "bounds = np.vstack((imm-imlow,imhigh-imm))\n",
    "ax.barh(y_pos+0.2, imm*100, xerr=bounds*100, height=height, color=palette(0), align='center', ecolor='k', capsize=20);\n",
    "\n",
    "for i, region in enumerate(top):\n",
    "    if region in immunity_adj.keys():\n",
    "        imm_adj = immunity_adj[region]\n",
    "        imlow = immunity_adj_low[region]\n",
    "        imhigh = immunity_adj_high[region]\n",
    "        bounds_adj = np.array([imm_adj-imlow,imhigh-imm_adj])\n",
    "        ax.barh(y_pos[i]-0.2, imm_adj*100,height=height, \n",
    "                color=palette(1), align='center', ecolor='k', capsize=20);\n",
    "\n",
    "ax.xaxis.set_major_formatter(mtick.PercentFormatter())\n",
    "plt.xlabel('Fraction with antibodies')\n",
    "plt.tight_layout()\n",
    "plt.savefig('immunity.pdf')"
   ]
  },
  {
   "cell_type": "code",
   "execution_count": null,
   "metadata": {},
   "outputs": [],
   "source": [
    "mdates.num2date(inf_dates[-22])\n",
    "\n",
    "region = 'Netherlands'\n",
    "N = data.get_population(region)\n",
    "\n",
    "inf_dates, delta_I = get_past_infections(region,beta,gamma,which_ifr='mean')\n",
    "immunity[region] = np.sum(delta_I[:-22])/N\n",
    "print(region,immunity[region])\n"
   ]
  },
  {
   "cell_type": "code",
   "execution_count": null,
   "metadata": {},
   "outputs": [],
   "source": [
    "immunity = {}\n",
    "immunity_high = {}\n",
    "immunity_low = {}\n",
    "gamma = 1./14\n",
    "beta = 3.0*gamma\n",
    "\n",
    "for region in data.US_state_population.keys():\n",
    "        N = data.get_population(region)\n",
    "        data_dates, cum_cases, cum_deaths = data.load_time_series(region,smooth)\n",
    "        if cum_deaths[-1]<50: continue\n",
    "\n",
    "        inf_dates, delta_I = get_past_infections(region,beta,gamma,which_ifr='mean')\n",
    "        immunity[region] = np.sum(delta_I)/N\n",
    "        print(region,immunity[region])\n",
    "\n",
    "        inf_dates, delta_I = get_past_infections(region,beta,gamma,which_ifr='low')\n",
    "        immunity_high[region] = np.sum(delta_I)/N\n",
    "        \n",
    "        inf_dates, delta_I = get_past_infections(region,beta,gamma,which_ifr='high')\n",
    "        immunity_low[region] = np.sum(delta_I)/N"
   ]
  },
  {
   "cell_type": "code",
   "execution_count": null,
   "metadata": {},
   "outputs": [],
   "source": [
    "top = sorted(immunity, key=immunity.get, reverse=True)[:10]\n",
    "\n",
    "matplotlib.rcParams.update({'errorbar.capsize': 1})\n",
    "plt.rcParams.update({'lines.markeredgewidth': 0})\n",
    "\n",
    "imm = np.array([immunity[region] for region in top])\n",
    "imlow = np.array([immunity_low[region] for region in top])\n",
    "imhigh = np.array([immunity_high[region] for region in top])\n",
    "\n",
    "fig, ax = plt.subplots()\n",
    "y_pos = np.arange(len(top))[::-1]\n",
    "ax.set_yticks(y_pos)\n",
    "ax.set_yticklabels(top)\n",
    "bounds = np.vstack((imm-imlow,imhigh-imm))\n",
    "ax.barh(y_pos, imm*100, xerr=bounds*100, align='center', ecolor='k', capsize=20);\n",
    "ax.xaxis.set_major_formatter(mtick.PercentFormatter())\n",
    "plt.xlabel('Fraction with antibodies')\n",
    "plt.tight_layout()\n",
    "plt.savefig('immunity_US.pdf')"
   ]
  },
  {
   "cell_type": "code",
   "execution_count": null,
   "metadata": {},
   "outputs": [],
   "source": [
    "immunity_low['New York']"
   ]
  },
  {
   "cell_type": "code",
   "execution_count": null,
   "metadata": {},
   "outputs": [],
   "source": [
    "immunity['New York']"
   ]
  },
  {
   "cell_type": "code",
   "execution_count": null,
   "metadata": {},
   "outputs": [],
   "source": [
    "immunity_high['New York']"
   ]
  },
  {
   "cell_type": "code",
   "execution_count": null,
   "metadata": {},
   "outputs": [],
   "source": [
    "imlow"
   ]
  },
  {
   "cell_type": "code",
   "execution_count": null,
   "metadata": {},
   "outputs": [],
   "source": [
    "bounds"
   ]
  },
  {
   "cell_type": "code",
   "execution_count": null,
   "metadata": {},
   "outputs": [],
   "source": [
    "imm"
   ]
  },
  {
   "cell_type": "markdown",
   "metadata": {},
   "source": [
    "# Estimated intervention effectiveness"
   ]
  },
  {
   "cell_type": "code",
   "execution_count": null,
   "metadata": {},
   "outputs": [],
   "source": [
    "palette = plt.get_cmap('tab10')\n",
    "gamma = 1./14\n",
    "beta = 3*gamma\n",
    "beta_low = 2*gamma\n",
    "beta_high = 4*gamma\n",
    "plt.figure(figsize=(12,6))\n",
    "for ii, region in enumerate(['Spain','Italy','France','Sweden','Austria','Germany','United Kingdom']):\n",
    "    N = data.get_population(region)\n",
    "    smooth = True\n",
    "\n",
    "    ifr = avg_ifr(region)\n",
    "    data_dates, cum_cases, cum_deaths = data.load_time_series(region,smooth)\n",
    "    data_start = mdates.date2num(data_dates[0])  # First day for which we have data\n",
    "    daily_cases = np.insert(np.diff(cum_cases),0,cum_cases[0])\n",
    "\n",
    "    u0, offset, inf_dates, I, R, new_infections = \\\n",
    "        infer_initial_data(cum_deaths,data_start,ifr,gamma,N,method='deconvolution',extended_output=1,slow=False)\n",
    "\n",
    "    S = N - R - I\n",
    "    q = 1 - N*new_infections/(beta*S*I)\n",
    "    q_low = 1 - N*new_infections/(beta_low*S*I)\n",
    "    q_high = 1 - N*new_infections/(beta_high*S*I)\n",
    "    start = np.where(I>N/10000)[0][0]\n",
    "    plt.plot_date(data_dates[start:-offset],q[start:-offset]*100,'-',color=palette(ii),label=region)\n",
    "    #plt.fill_between(data_dates[start:-offset],q_low[start:-offset]*100,q_high[start:-offset]*100,\n",
    "    #                 '-',color=palette(ii),alpha=0.5)\n",
    "    if region in data.lockdown_start:\n",
    "        for ld in data.lockdown_start[region]:\n",
    "            lockdown_date = datetime.strptime(ld,'%m-%d-%Y')\n",
    "            i = np.where(np.array([datetime.strftime(d,'%m-%d-%Y') for d in data_dates])==ld)\n",
    "            plt.plot_date([lockdown_date],max(0,q[i]*100),'o',color=palette(ii))\n",
    "        \n",
    "    #q_past, _ = assess_intervention_effectiveness(cum_deaths,N,ifr,data_dates,slope_penalty=100)\n",
    "    #plt.plot_date(data_dates[-offset:],q_past(np.arange(offset))*100,'--',color=palette(ii))\n",
    "    \n",
    "plt.ylim(0,100)\n",
    "ax = plt.gca()\n",
    "ax.xaxis.set_major_locator(mdates.MonthLocator())\n",
    "ax.xaxis.set_major_formatter(mdates.DateFormatter('%B'))\n",
    "ax.yaxis.set_major_formatter(yticks)\n",
    "plt.title('Estimated intervention effectiveness');\n",
    "plt.legend()\n",
    "\n",
    "plt.savefig('past_intervention_countries.pdf')"
   ]
  },
  {
   "cell_type": "code",
   "execution_count": null,
   "metadata": {},
   "outputs": [],
   "source": [
    "palette = plt.get_cmap('tab10')\n",
    "gamma = 1./14\n",
    "beta = 3*gamma\n",
    "beta_low = 2*gamma\n",
    "beta_high = 4*gamma\n",
    "plt.figure(figsize=(12,6))\n",
    "for ii, region in enumerate(['New York','New Jersey','Washington','California']):\n",
    "    N = data.get_population(region)\n",
    "    smooth = True\n",
    "\n",
    "    ifr = avg_ifr(region)\n",
    "    data_dates, cum_cases, cum_deaths = data.load_time_series(region,smooth)\n",
    "    data_start = mdates.date2num(data_dates[0])  # First day for which we have data\n",
    "    daily_cases = np.insert(np.diff(cum_cases),0,cum_cases[0])\n",
    "\n",
    "    u0, offset, inf_dates, I, R, new_infections = \\\n",
    "        infer_initial_data(cum_deaths,data_start,ifr,gamma,N,method='deconvolution',extended_output=1,slow=False)\n",
    "\n",
    "    S = N - R - I\n",
    "    q = 1 - N*new_infections/(beta*S*I)\n",
    "    q_low = 1 - N*new_infections/(beta_low*S*I)\n",
    "    q_high = 1 - N*new_infections/(beta_high*S*I)\n",
    "    start = np.where(I>N/10000)[0][0]\n",
    "    plt.plot_date(data_dates[start:-offset],q[start:-offset]*100,'-',color=palette(ii),label=region)\n",
    "    #plt.fill_between(data_dates[start:-offset],q_low[start:-offset]*100,q_high[start:-offset]*100,\n",
    "    #                 '-',color=palette(ii),alpha=0.5)\n",
    "    if region in data.lockdown_start:\n",
    "        for ld in data.lockdown_start[region]:\n",
    "            lockdown_date = datetime.strptime(ld,'%m-%d-%Y')\n",
    "            i = np.where(np.array([datetime.strftime(d,'%m-%d-%Y') for d in data_dates])==ld)\n",
    "            plt.plot_date([lockdown_date],max(0,q[i]*100),'o',color=palette(ii))\n",
    "        \n",
    "    #q_past, _ = assess_intervention_effectiveness(cum_deaths,N,ifr,data_dates,slope_penalty=100)\n",
    "    #plt.plot_date(data_dates[-offset:],q_past(np.arange(offset))*100,'--',color=palette(ii))\n",
    "    \n",
    "plt.ylim(0,100)\n",
    "ax = plt.gca()\n",
    "ax.xaxis.set_major_locator(mdates.MonthLocator())\n",
    "ax.xaxis.set_major_formatter(mdates.DateFormatter('%B'))\n",
    "ax.yaxis.set_major_formatter(yticks)\n",
    "plt.title('Estimated intervention effectiveness');\n",
    "plt.legend()\n",
    "\n",
    "plt.savefig('past_intervention_states.pdf')"
   ]
  },
  {
   "cell_type": "code",
   "execution_count": null,
   "metadata": {},
   "outputs": [],
   "source": []
  }
 ],
 "metadata": {
  "kernelspec": {
   "display_name": "Python 3",
   "language": "python",
   "name": "python3"
  },
  "toc": {
   "base_numbering": 1,
   "nav_menu": {},
   "number_sections": true,
   "sideBar": true,
   "skip_h1_title": false,
   "title_cell": "Table of Contents",
   "title_sidebar": "Contents",
   "toc_cell": false,
   "toc_position": {},
   "toc_section_display": true,
   "toc_window_display": false
  }
 },
 "nbformat": 4,
 "nbformat_minor": 2
}
